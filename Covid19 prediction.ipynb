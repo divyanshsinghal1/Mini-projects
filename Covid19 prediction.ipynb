{
 "cells": [
  {
   "cell_type": "markdown",
   "metadata": {},
   "source": [
    "# Predicting Covid-19 cases in India\n"
   ]
  },
  {
   "cell_type": "code",
   "execution_count": 2,
   "metadata": {},
   "outputs": [],
   "source": [
    "import numpy as np\n",
    "import pandas as pd\n",
    "import statsmodels.api as sm\n",
    "import matplotlib.pyplot as plt\n",
    "from sklearn.linear_model import LinearRegression\n",
    "import seaborn as sns\n",
    "sns.set()"
   ]
  },
  {
   "cell_type": "code",
   "execution_count": 3,
   "metadata": {},
   "outputs": [],
   "source": [
    "from sklearn.preprocessing import StandardScaler\n",
    "from sklearn.impute import SimpleImputer\n",
    "from sklearn.model_selection import train_test_split\n",
    "from sklearn.linear_model import LinearRegression\n",
    "from sklearn.metrics import r2_score\n",
    "from sklearn.metrics import mean_squared_error\n",
    "from statsmodels.stats.stattools import durbin_watson\n",
    "from scipy.stats import spearmanr"
   ]
  },
  {
   "cell_type": "markdown",
   "metadata": {},
   "source": [
    "#### Importing Data"
   ]
  },
  {
   "cell_type": "code",
   "execution_count": 4,
   "metadata": {},
   "outputs": [],
   "source": [
    "raw_data=pd.read_csv('Covid-19DatasheetFinal.csv')"
   ]
  },
  {
   "cell_type": "code",
   "execution_count": 5,
   "metadata": {},
   "outputs": [
    {
     "data": {
      "text/html": [
       "<div>\n",
       "<style scoped>\n",
       "    .dataframe tbody tr th:only-of-type {\n",
       "        vertical-align: middle;\n",
       "    }\n",
       "\n",
       "    .dataframe tbody tr th {\n",
       "        vertical-align: top;\n",
       "    }\n",
       "\n",
       "    .dataframe thead th {\n",
       "        text-align: right;\n",
       "    }\n",
       "</style>\n",
       "<table border=\"1\" class=\"dataframe\">\n",
       "  <thead>\n",
       "    <tr style=\"text-align: right;\">\n",
       "      <th></th>\n",
       "      <th>StateName</th>\n",
       "      <th>PopulationSizePercent</th>\n",
       "      <th>PopulationDensityKm2</th>\n",
       "      <th>UrbanPopulationPercent</th>\n",
       "      <th>HealthExpenditurePerCapita</th>\n",
       "      <th>NumberOfDoctorsPercentTotal</th>\n",
       "      <th>SeniorCitizenInCr</th>\n",
       "      <th>CovidRecoveredCount</th>\n",
       "      <th>CovidDeathCount</th>\n",
       "      <th>CovidCasesCount</th>\n",
       "    </tr>\n",
       "  </thead>\n",
       "  <tbody>\n",
       "    <tr>\n",
       "      <td>0</td>\n",
       "      <td>Andhra Pradesh</td>\n",
       "      <td>4.08</td>\n",
       "      <td>303.0</td>\n",
       "      <td>70.53</td>\n",
       "      <td>7429.0</td>\n",
       "      <td>8.00</td>\n",
       "      <td>0.600</td>\n",
       "      <td>6</td>\n",
       "      <td>4</td>\n",
       "      <td>348</td>\n",
       "    </tr>\n",
       "    <tr>\n",
       "      <td>1</td>\n",
       "      <td>Andaman and Nicobar Islands</td>\n",
       "      <td>0.03</td>\n",
       "      <td>46.0</td>\n",
       "      <td>62.30</td>\n",
       "      <td>340.0</td>\n",
       "      <td>0.03</td>\n",
       "      <td>0.001</td>\n",
       "      <td>0</td>\n",
       "      <td>0</td>\n",
       "      <td>11</td>\n",
       "    </tr>\n",
       "    <tr>\n",
       "      <td>2</td>\n",
       "      <td>Arunachal Pradesh</td>\n",
       "      <td>0.11</td>\n",
       "      <td>17.0</td>\n",
       "      <td>77.06</td>\n",
       "      <td>1119.0</td>\n",
       "      <td>0.04</td>\n",
       "      <td>0.005</td>\n",
       "      <td>0</td>\n",
       "      <td>0</td>\n",
       "      <td>1</td>\n",
       "    </tr>\n",
       "    <tr>\n",
       "      <td>3</td>\n",
       "      <td>Assam</td>\n",
       "      <td>2.58</td>\n",
       "      <td>397.0</td>\n",
       "      <td>85.90</td>\n",
       "      <td>5377.0</td>\n",
       "      <td>1.31</td>\n",
       "      <td>0.200</td>\n",
       "      <td>0</td>\n",
       "      <td>0</td>\n",
       "      <td>28</td>\n",
       "    </tr>\n",
       "    <tr>\n",
       "      <td>4</td>\n",
       "      <td>Bihar</td>\n",
       "      <td>8.60</td>\n",
       "      <td>1102.0</td>\n",
       "      <td>88.71</td>\n",
       "      <td>6668.0</td>\n",
       "      <td>5.33</td>\n",
       "      <td>0.600</td>\n",
       "      <td>0</td>\n",
       "      <td>1</td>\n",
       "      <td>39</td>\n",
       "    </tr>\n",
       "  </tbody>\n",
       "</table>\n",
       "</div>"
      ],
      "text/plain": [
       "                     StateName  PopulationSizePercent  PopulationDensityKm2  \\\n",
       "0               Andhra Pradesh                   4.08                 303.0   \n",
       "1  Andaman and Nicobar Islands                   0.03                  46.0   \n",
       "2            Arunachal Pradesh                   0.11                  17.0   \n",
       "3                        Assam                   2.58                 397.0   \n",
       "4                        Bihar                   8.60                1102.0   \n",
       "\n",
       "   UrbanPopulationPercent  HealthExpenditurePerCapita  \\\n",
       "0                   70.53                      7429.0   \n",
       "1                   62.30                       340.0   \n",
       "2                   77.06                      1119.0   \n",
       "3                   85.90                      5377.0   \n",
       "4                   88.71                      6668.0   \n",
       "\n",
       "   NumberOfDoctorsPercentTotal  SeniorCitizenInCr  CovidRecoveredCount  \\\n",
       "0                         8.00              0.600                    6   \n",
       "1                         0.03              0.001                    0   \n",
       "2                         0.04              0.005                    0   \n",
       "3                         1.31              0.200                    0   \n",
       "4                         5.33              0.600                    0   \n",
       "\n",
       "   CovidDeathCount  CovidCasesCount  \n",
       "0                4              348  \n",
       "1                0               11  \n",
       "2                0                1  \n",
       "3                0               28  \n",
       "4                1               39  "
      ]
     },
     "execution_count": 5,
     "metadata": {},
     "output_type": "execute_result"
    }
   ],
   "source": [
    "raw_data.head()"
   ]
  },
  {
   "cell_type": "code",
   "execution_count": 6,
   "metadata": {},
   "outputs": [
    {
     "data": {
      "text/plain": [
       "Index(['StateName', 'PopulationSizePercent', 'PopulationDensityKm2',\n",
       "       'UrbanPopulationPercent', 'HealthExpenditurePerCapita',\n",
       "       'NumberOfDoctorsPercentTotal', 'SeniorCitizenInCr',\n",
       "       'CovidRecoveredCount', 'CovidDeathCount', 'CovidCasesCount'],\n",
       "      dtype='object')"
      ]
     },
     "execution_count": 6,
     "metadata": {},
     "output_type": "execute_result"
    }
   ],
   "source": [
    "raw_data.columns"
   ]
  },
  {
   "cell_type": "code",
   "execution_count": 7,
   "metadata": {},
   "outputs": [
    {
     "data": {
      "text/html": [
       "<div>\n",
       "<style scoped>\n",
       "    .dataframe tbody tr th:only-of-type {\n",
       "        vertical-align: middle;\n",
       "    }\n",
       "\n",
       "    .dataframe tbody tr th {\n",
       "        vertical-align: top;\n",
       "    }\n",
       "\n",
       "    .dataframe thead th {\n",
       "        text-align: right;\n",
       "    }\n",
       "</style>\n",
       "<table border=\"1\" class=\"dataframe\">\n",
       "  <thead>\n",
       "    <tr style=\"text-align: right;\">\n",
       "      <th></th>\n",
       "      <th>PopulationSizePercent</th>\n",
       "      <th>PopulationDensityKm2</th>\n",
       "      <th>UrbanPopulationPercent</th>\n",
       "      <th>HealthExpenditurePerCapita</th>\n",
       "      <th>NumberOfDoctorsPercentTotal</th>\n",
       "      <th>SeniorCitizenInCr</th>\n",
       "      <th>CovidRecoveredCount</th>\n",
       "      <th>CovidDeathCount</th>\n",
       "      <th>CovidCasesCount</th>\n",
       "    </tr>\n",
       "  </thead>\n",
       "  <tbody>\n",
       "    <tr>\n",
       "      <td>count</td>\n",
       "      <td>29.000000</td>\n",
       "      <td>29.000000</td>\n",
       "      <td>29.000000</td>\n",
       "      <td>29.000000</td>\n",
       "      <td>28.000000</td>\n",
       "      <td>29.000000</td>\n",
       "      <td>30.000000</td>\n",
       "      <td>30.000000</td>\n",
       "      <td>30.000000</td>\n",
       "    </tr>\n",
       "    <tr>\n",
       "      <td>mean</td>\n",
       "      <td>3.182759</td>\n",
       "      <td>1132.751724</td>\n",
       "      <td>60.615517</td>\n",
       "      <td>5135.827586</td>\n",
       "      <td>3.306786</td>\n",
       "      <td>0.270448</td>\n",
       "      <td>15.866667</td>\n",
       "      <td>5.466667</td>\n",
       "      <td>189.466667</td>\n",
       "    </tr>\n",
       "    <tr>\n",
       "      <td>std</td>\n",
       "      <td>3.764170</td>\n",
       "      <td>2595.814799</td>\n",
       "      <td>23.209745</td>\n",
       "      <td>4303.114529</td>\n",
       "      <td>4.001865</td>\n",
       "      <td>0.298101</td>\n",
       "      <td>25.844006</td>\n",
       "      <td>13.333218</td>\n",
       "      <td>271.258209</td>\n",
       "    </tr>\n",
       "    <tr>\n",
       "      <td>min</td>\n",
       "      <td>0.020000</td>\n",
       "      <td>2.800000</td>\n",
       "      <td>2.500000</td>\n",
       "      <td>340.000000</td>\n",
       "      <td>0.030000</td>\n",
       "      <td>0.001000</td>\n",
       "      <td>0.000000</td>\n",
       "      <td>0.000000</td>\n",
       "      <td>1.000000</td>\n",
       "    </tr>\n",
       "    <tr>\n",
       "      <td>25%</td>\n",
       "      <td>0.210000</td>\n",
       "      <td>189.000000</td>\n",
       "      <td>52.300000</td>\n",
       "      <td>1119.000000</td>\n",
       "      <td>0.287500</td>\n",
       "      <td>0.020000</td>\n",
       "      <td>0.000000</td>\n",
       "      <td>0.000000</td>\n",
       "      <td>11.500000</td>\n",
       "    </tr>\n",
       "    <tr>\n",
       "      <td>50%</td>\n",
       "      <td>2.290000</td>\n",
       "      <td>350.000000</td>\n",
       "      <td>68.130000</td>\n",
       "      <td>4487.000000</td>\n",
       "      <td>1.820000</td>\n",
       "      <td>0.200000</td>\n",
       "      <td>5.500000</td>\n",
       "      <td>1.000000</td>\n",
       "      <td>40.500000</td>\n",
       "    </tr>\n",
       "    <tr>\n",
       "      <td>75%</td>\n",
       "      <td>4.990000</td>\n",
       "      <td>573.000000</td>\n",
       "      <td>75.130000</td>\n",
       "      <td>7429.000000</td>\n",
       "      <td>4.197500</td>\n",
       "      <td>0.400000</td>\n",
       "      <td>21.000000</td>\n",
       "      <td>4.750000</td>\n",
       "      <td>323.500000</td>\n",
       "    </tr>\n",
       "    <tr>\n",
       "      <td>max</td>\n",
       "      <td>16.510000</td>\n",
       "      <td>11297.000000</td>\n",
       "      <td>89.970000</td>\n",
       "      <td>18967.000000</td>\n",
       "      <td>15.550000</td>\n",
       "      <td>1.200000</td>\n",
       "      <td>117.000000</td>\n",
       "      <td>72.000000</td>\n",
       "      <td>1135.000000</td>\n",
       "    </tr>\n",
       "  </tbody>\n",
       "</table>\n",
       "</div>"
      ],
      "text/plain": [
       "       PopulationSizePercent  PopulationDensityKm2  UrbanPopulationPercent  \\\n",
       "count              29.000000             29.000000               29.000000   \n",
       "mean                3.182759           1132.751724               60.615517   \n",
       "std                 3.764170           2595.814799               23.209745   \n",
       "min                 0.020000              2.800000                2.500000   \n",
       "25%                 0.210000            189.000000               52.300000   \n",
       "50%                 2.290000            350.000000               68.130000   \n",
       "75%                 4.990000            573.000000               75.130000   \n",
       "max                16.510000          11297.000000               89.970000   \n",
       "\n",
       "       HealthExpenditurePerCapita  NumberOfDoctorsPercentTotal  \\\n",
       "count                   29.000000                    28.000000   \n",
       "mean                  5135.827586                     3.306786   \n",
       "std                   4303.114529                     4.001865   \n",
       "min                    340.000000                     0.030000   \n",
       "25%                   1119.000000                     0.287500   \n",
       "50%                   4487.000000                     1.820000   \n",
       "75%                   7429.000000                     4.197500   \n",
       "max                  18967.000000                    15.550000   \n",
       "\n",
       "       SeniorCitizenInCr  CovidRecoveredCount  CovidDeathCount  \\\n",
       "count          29.000000            30.000000        30.000000   \n",
       "mean            0.270448            15.866667         5.466667   \n",
       "std             0.298101            25.844006        13.333218   \n",
       "min             0.001000             0.000000         0.000000   \n",
       "25%             0.020000             0.000000         0.000000   \n",
       "50%             0.200000             5.500000         1.000000   \n",
       "75%             0.400000            21.000000         4.750000   \n",
       "max             1.200000           117.000000        72.000000   \n",
       "\n",
       "       CovidCasesCount  \n",
       "count        30.000000  \n",
       "mean        189.466667  \n",
       "std         271.258209  \n",
       "min           1.000000  \n",
       "25%          11.500000  \n",
       "50%          40.500000  \n",
       "75%         323.500000  \n",
       "max        1135.000000  "
      ]
     },
     "execution_count": 7,
     "metadata": {},
     "output_type": "execute_result"
    }
   ],
   "source": [
    "raw_data.describe()"
   ]
  },
  {
   "cell_type": "markdown",
   "metadata": {},
   "source": [
    "## CHECKING THE MISSING VALUE AND FILLING IT."
   ]
  },
  {
   "cell_type": "code",
   "execution_count": 8,
   "metadata": {},
   "outputs": [
    {
     "data": {
      "text/plain": [
       "StateName                      0\n",
       "PopulationSizePercent          1\n",
       "PopulationDensityKm2           1\n",
       "UrbanPopulationPercent         1\n",
       "HealthExpenditurePerCapita     1\n",
       "NumberOfDoctorsPercentTotal    2\n",
       "SeniorCitizenInCr              1\n",
       "CovidRecoveredCount            0\n",
       "CovidDeathCount                0\n",
       "CovidCasesCount                0\n",
       "dtype: int64"
      ]
     },
     "execution_count": 8,
     "metadata": {},
     "output_type": "execute_result"
    }
   ],
   "source": [
    "# Missing Value check\n",
    "raw_data.isnull().sum()"
   ]
  },
  {
   "cell_type": "code",
   "execution_count": 9,
   "metadata": {},
   "outputs": [],
   "source": [
    "data=raw_data.copy()"
   ]
  },
  {
   "cell_type": "markdown",
   "metadata": {},
   "source": [
    "#### FILLING THE MISSING DATA WITH THE MEAN"
   ]
  },
  {
   "cell_type": "code",
   "execution_count": 10,
   "metadata": {},
   "outputs": [],
   "source": [
    "data.PopulationSizePercent=data.PopulationSizePercent.fillna(value=data.PopulationSizePercent.mean())\n",
    "data.PopulationDensityKm2=data.PopulationDensityKm2.fillna(value=data.PopulationDensityKm2.mean())\n",
    "data.UrbanPopulationPercent=data.UrbanPopulationPercent.fillna(value=data.UrbanPopulationPercent.mean())\n",
    "data.HealthExpenditurePerCapita=data.HealthExpenditurePerCapita.fillna(value=data.HealthExpenditurePerCapita.mean())\n",
    "data.NumberOfDoctorsPercentTotal=data.NumberOfDoctorsPercentTotal.fillna(value=data.NumberOfDoctorsPercentTotal.mean())\n",
    "data.SeniorCitizenInCr=data.SeniorCitizenInCr.fillna(value=data.SeniorCitizenInCr.mean())"
   ]
  },
  {
   "cell_type": "code",
   "execution_count": 11,
   "metadata": {},
   "outputs": [
    {
     "data": {
      "text/plain": [
       "StateName                      0\n",
       "PopulationSizePercent          0\n",
       "PopulationDensityKm2           0\n",
       "UrbanPopulationPercent         0\n",
       "HealthExpenditurePerCapita     0\n",
       "NumberOfDoctorsPercentTotal    0\n",
       "SeniorCitizenInCr              0\n",
       "CovidRecoveredCount            0\n",
       "CovidDeathCount                0\n",
       "CovidCasesCount                0\n",
       "dtype: int64"
      ]
     },
     "execution_count": 11,
     "metadata": {},
     "output_type": "execute_result"
    }
   ],
   "source": [
    "data.isnull().sum()"
   ]
  },
  {
   "cell_type": "code",
   "execution_count": 12,
   "metadata": {},
   "outputs": [],
   "source": [
    "data.rename(columns = {0: 'PopSizePercent',1: 'PopDensityKm2',\n",
    "       2:'UrbanPopPercent', 3:'HealthExpenPerCapita',\n",
    "       4:'NoOfDocPercentTotal', 5:'SeniorCitizenInCr',\n",
    "       6:'CovidRecoveredCount', 7:'CovidDeathCount', 8:'CovidCasesCount'}, inplace = True)"
   ]
  },
  {
   "cell_type": "markdown",
   "metadata": {},
   "source": [
    "###### DROPING THE 'STATENAME' COULMN"
   ]
  },
  {
   "cell_type": "code",
   "execution_count": 13,
   "metadata": {},
   "outputs": [],
   "source": [
    "del data['StateName']"
   ]
  },
  {
   "cell_type": "code",
   "execution_count": 14,
   "metadata": {
    "scrolled": false
   },
   "outputs": [
    {
     "data": {
      "text/html": [
       "<div>\n",
       "<style scoped>\n",
       "    .dataframe tbody tr th:only-of-type {\n",
       "        vertical-align: middle;\n",
       "    }\n",
       "\n",
       "    .dataframe tbody tr th {\n",
       "        vertical-align: top;\n",
       "    }\n",
       "\n",
       "    .dataframe thead th {\n",
       "        text-align: right;\n",
       "    }\n",
       "</style>\n",
       "<table border=\"1\" class=\"dataframe\">\n",
       "  <thead>\n",
       "    <tr style=\"text-align: right;\">\n",
       "      <th></th>\n",
       "      <th>PopulationSizePercent</th>\n",
       "      <th>PopulationDensityKm2</th>\n",
       "      <th>UrbanPopulationPercent</th>\n",
       "      <th>HealthExpenditurePerCapita</th>\n",
       "      <th>NumberOfDoctorsPercentTotal</th>\n",
       "      <th>SeniorCitizenInCr</th>\n",
       "      <th>CovidRecoveredCount</th>\n",
       "      <th>CovidDeathCount</th>\n",
       "      <th>CovidCasesCount</th>\n",
       "    </tr>\n",
       "  </thead>\n",
       "  <tbody>\n",
       "    <tr>\n",
       "      <td>0</td>\n",
       "      <td>4.08</td>\n",
       "      <td>303.0</td>\n",
       "      <td>70.53</td>\n",
       "      <td>7429.0</td>\n",
       "      <td>8.00</td>\n",
       "      <td>0.600</td>\n",
       "      <td>6</td>\n",
       "      <td>4</td>\n",
       "      <td>348</td>\n",
       "    </tr>\n",
       "    <tr>\n",
       "      <td>1</td>\n",
       "      <td>0.03</td>\n",
       "      <td>46.0</td>\n",
       "      <td>62.30</td>\n",
       "      <td>340.0</td>\n",
       "      <td>0.03</td>\n",
       "      <td>0.001</td>\n",
       "      <td>0</td>\n",
       "      <td>0</td>\n",
       "      <td>11</td>\n",
       "    </tr>\n",
       "    <tr>\n",
       "      <td>2</td>\n",
       "      <td>0.11</td>\n",
       "      <td>17.0</td>\n",
       "      <td>77.06</td>\n",
       "      <td>1119.0</td>\n",
       "      <td>0.04</td>\n",
       "      <td>0.005</td>\n",
       "      <td>0</td>\n",
       "      <td>0</td>\n",
       "      <td>1</td>\n",
       "    </tr>\n",
       "    <tr>\n",
       "      <td>3</td>\n",
       "      <td>2.58</td>\n",
       "      <td>397.0</td>\n",
       "      <td>85.90</td>\n",
       "      <td>5377.0</td>\n",
       "      <td>1.31</td>\n",
       "      <td>0.200</td>\n",
       "      <td>0</td>\n",
       "      <td>0</td>\n",
       "      <td>28</td>\n",
       "    </tr>\n",
       "    <tr>\n",
       "      <td>4</td>\n",
       "      <td>8.60</td>\n",
       "      <td>1102.0</td>\n",
       "      <td>88.71</td>\n",
       "      <td>6668.0</td>\n",
       "      <td>5.33</td>\n",
       "      <td>0.600</td>\n",
       "      <td>0</td>\n",
       "      <td>1</td>\n",
       "      <td>39</td>\n",
       "    </tr>\n",
       "  </tbody>\n",
       "</table>\n",
       "</div>"
      ],
      "text/plain": [
       "   PopulationSizePercent  PopulationDensityKm2  UrbanPopulationPercent  \\\n",
       "0                   4.08                 303.0                   70.53   \n",
       "1                   0.03                  46.0                   62.30   \n",
       "2                   0.11                  17.0                   77.06   \n",
       "3                   2.58                 397.0                   85.90   \n",
       "4                   8.60                1102.0                   88.71   \n",
       "\n",
       "   HealthExpenditurePerCapita  NumberOfDoctorsPercentTotal  SeniorCitizenInCr  \\\n",
       "0                      7429.0                         8.00              0.600   \n",
       "1                       340.0                         0.03              0.001   \n",
       "2                      1119.0                         0.04              0.005   \n",
       "3                      5377.0                         1.31              0.200   \n",
       "4                      6668.0                         5.33              0.600   \n",
       "\n",
       "   CovidRecoveredCount  CovidDeathCount  CovidCasesCount  \n",
       "0                    6                4              348  \n",
       "1                    0                0               11  \n",
       "2                    0                0                1  \n",
       "3                    0                0               28  \n",
       "4                    0                1               39  "
      ]
     },
     "execution_count": 14,
     "metadata": {},
     "output_type": "execute_result"
    }
   ],
   "source": [
    "data.head()"
   ]
  },
  {
   "cell_type": "markdown",
   "metadata": {},
   "source": [
    "# Now Analysing the Linear Relationship between independent variable and dependent variables"
   ]
  },
  {
   "cell_type": "markdown",
   "metadata": {},
   "source": [
    "### For that we will scatter plot "
   ]
  },
  {
   "cell_type": "code",
   "execution_count": 16,
   "metadata": {
    "scrolled": false
   },
   "outputs": [
    {
     "data": {
      "text/plain": [
       "<seaborn.axisgrid.PairGrid at 0x2ce55a90208>"
      ]
     },
     "execution_count": 16,
     "metadata": {},
     "output_type": "execute_result"
    },
    {
     "data": {
      "image/png": "[encoded data removed]",
      "text/plain": [
       "<Figure size 576x2304 with 8 Axes>"
      ]
     },
     "metadata": {
      "needs_background": "light"
     },
     "output_type": "display_data"
    }
   ],
   "source": [
    "sns.pairplot(data=data,y_vars=['PopulationSizePercent', 'PopulationDensityKm2',\n",
    "       'UrbanPopulationPercent', 'HealthExpenditurePerCapita',\n",
    "       'NumberOfDoctorsPercentTotal', 'SeniorCitizenInCr',\n",
    "       'CovidRecoveredCount', 'CovidDeathCount'],x_vars=['CovidCasesCount'],kind='reg',height=4,aspect=2,diag_kind=\"kde\")"
   ]
  },
  {
   "cell_type": "markdown",
   "metadata": {},
   "source": [
    "##### All variables seems to be linearly related to independent variable or nearly linearly realted except UrbanPopPercent. So we will apply log transformation and see the results again"
   ]
  },
  {
   "cell_type": "code",
   "execution_count": 36,
   "metadata": {},
   "outputs": [
    {
     "data": {
      "text/plain": [
       "Text(0, 0.5, 'UrbanPopulationPercent')"
      ]
     },
     "execution_count": 36,
     "metadata": {},
     "output_type": "execute_result"
    },
    {
     "data": {
      "image/png": "[encoded data removed]",
      "text/plain": [
       "<Figure size 432x288 with 1 Axes>"
      ]
     },
     "metadata": {
      "needs_background": "light"
     },
     "output_type": "display_data"
    }
   ],
   "source": [
    "plt.scatter(data['CovidCasesCount'], np.log(data['UrbanPopulationPercent']))\n",
    "plt.xlabel('CovidCasesCount'); plt.ylabel('UrbanPopulationPercent')"
   ]
  },
  {
   "cell_type": "markdown",
   "metadata": {},
   "source": [
    "###### Now we will update the table of urban pupulation percent"
   ]
  },
  {
   "cell_type": "code",
   "execution_count": 38,
   "metadata": {},
   "outputs": [],
   "source": [
    "data['UrbanPopulationPercent'] = np.log(data['UrbanPopulationPercent'])"
   ]
  },
  {
   "cell_type": "code",
   "execution_count": 39,
   "metadata": {},
   "outputs": [
    {
     "data": {
      "text/html": [
       "<div>\n",
       "<style scoped>\n",
       "    .dataframe tbody tr th:only-of-type {\n",
       "        vertical-align: middle;\n",
       "    }\n",
       "\n",
       "    .dataframe tbody tr th {\n",
       "        vertical-align: top;\n",
       "    }\n",
       "\n",
       "    .dataframe thead th {\n",
       "        text-align: right;\n",
       "    }\n",
       "</style>\n",
       "<table border=\"1\" class=\"dataframe\">\n",
       "  <thead>\n",
       "    <tr style=\"text-align: right;\">\n",
       "      <th></th>\n",
       "      <th>PopulationSizePercent</th>\n",
       "      <th>PopulationDensityKm2</th>\n",
       "      <th>UrbanPopulationPercent</th>\n",
       "      <th>HealthExpenditurePerCapita</th>\n",
       "      <th>NumberOfDoctorsPercentTotal</th>\n",
       "      <th>SeniorCitizenInCr</th>\n",
       "      <th>CovidRecoveredCount</th>\n",
       "      <th>CovidDeathCount</th>\n",
       "      <th>CovidCasesCount</th>\n",
       "    </tr>\n",
       "  </thead>\n",
       "  <tbody>\n",
       "    <tr>\n",
       "      <td>0</td>\n",
       "      <td>4.08</td>\n",
       "      <td>303.0</td>\n",
       "      <td>4.256038</td>\n",
       "      <td>7429.0</td>\n",
       "      <td>8.00</td>\n",
       "      <td>0.600</td>\n",
       "      <td>6</td>\n",
       "      <td>4</td>\n",
       "      <td>348</td>\n",
       "    </tr>\n",
       "    <tr>\n",
       "      <td>1</td>\n",
       "      <td>0.03</td>\n",
       "      <td>46.0</td>\n",
       "      <td>4.131961</td>\n",
       "      <td>340.0</td>\n",
       "      <td>0.03</td>\n",
       "      <td>0.001</td>\n",
       "      <td>0</td>\n",
       "      <td>0</td>\n",
       "      <td>11</td>\n",
       "    </tr>\n",
       "    <tr>\n",
       "      <td>2</td>\n",
       "      <td>0.11</td>\n",
       "      <td>17.0</td>\n",
       "      <td>4.344584</td>\n",
       "      <td>1119.0</td>\n",
       "      <td>0.04</td>\n",
       "      <td>0.005</td>\n",
       "      <td>0</td>\n",
       "      <td>0</td>\n",
       "      <td>1</td>\n",
       "    </tr>\n",
       "    <tr>\n",
       "      <td>3</td>\n",
       "      <td>2.58</td>\n",
       "      <td>397.0</td>\n",
       "      <td>4.453184</td>\n",
       "      <td>5377.0</td>\n",
       "      <td>1.31</td>\n",
       "      <td>0.200</td>\n",
       "      <td>0</td>\n",
       "      <td>0</td>\n",
       "      <td>28</td>\n",
       "    </tr>\n",
       "    <tr>\n",
       "      <td>4</td>\n",
       "      <td>8.60</td>\n",
       "      <td>1102.0</td>\n",
       "      <td>4.485373</td>\n",
       "      <td>6668.0</td>\n",
       "      <td>5.33</td>\n",
       "      <td>0.600</td>\n",
       "      <td>0</td>\n",
       "      <td>1</td>\n",
       "      <td>39</td>\n",
       "    </tr>\n",
       "  </tbody>\n",
       "</table>\n",
       "</div>"
      ],
      "text/plain": [
       "   PopulationSizePercent  PopulationDensityKm2  UrbanPopulationPercent  \\\n",
       "0                   4.08                 303.0                4.256038   \n",
       "1                   0.03                  46.0                4.131961   \n",
       "2                   0.11                  17.0                4.344584   \n",
       "3                   2.58                 397.0                4.453184   \n",
       "4                   8.60                1102.0                4.485373   \n",
       "\n",
       "   HealthExpenditurePerCapita  NumberOfDoctorsPercentTotal  SeniorCitizenInCr  \\\n",
       "0                      7429.0                         8.00              0.600   \n",
       "1                       340.0                         0.03              0.001   \n",
       "2                      1119.0                         0.04              0.005   \n",
       "3                      5377.0                         1.31              0.200   \n",
       "4                      6668.0                         5.33              0.600   \n",
       "\n",
       "   CovidRecoveredCount  CovidDeathCount  CovidCasesCount  \n",
       "0                    6                4              348  \n",
       "1                    0                0               11  \n",
       "2                    0                0                1  \n",
       "3                    0                0               28  \n",
       "4                    0                1               39  "
      ]
     },
     "execution_count": 39,
     "metadata": {},
     "output_type": "execute_result"
    }
   ],
   "source": [
    "data.head()"
   ]
  },
  {
   "cell_type": "markdown",
   "metadata": {},
   "source": [
    "# Checking for Multicollinearity"
   ]
  },
  {
   "cell_type": "code",
   "execution_count": 45,
   "metadata": {},
   "outputs": [],
   "source": [
    "from statsmodels.stats.outliers_influence import variance_inflation_factor\n",
    "from sklearn.model_selection import train_test_split"
   ]
  },
  {
   "cell_type": "markdown",
   "metadata": {},
   "source": [
    "### Using Variance Inflation Factor(VIF)"
   ]
  },
  {
   "cell_type": "code",
   "execution_count": 136,
   "metadata": {},
   "outputs": [
    {
     "data": {
      "text/html": [
       "<div>\n",
       "<style scoped>\n",
       "    .dataframe tbody tr th:only-of-type {\n",
       "        vertical-align: middle;\n",
       "    }\n",
       "\n",
       "    .dataframe tbody tr th {\n",
       "        vertical-align: top;\n",
       "    }\n",
       "\n",
       "    .dataframe thead th {\n",
       "        text-align: right;\n",
       "    }\n",
       "</style>\n",
       "<table border=\"1\" class=\"dataframe\">\n",
       "  <thead>\n",
       "    <tr style=\"text-align: right;\">\n",
       "      <th></th>\n",
       "      <th>VIF</th>\n",
       "      <th>Features</th>\n",
       "    </tr>\n",
       "  </thead>\n",
       "  <tbody>\n",
       "    <tr>\n",
       "      <td>0</td>\n",
       "      <td>23.584492</td>\n",
       "      <td>PopulationSizePercent</td>\n",
       "    </tr>\n",
       "    <tr>\n",
       "      <td>1</td>\n",
       "      <td>1.429741</td>\n",
       "      <td>PopulationDensityKm2</td>\n",
       "    </tr>\n",
       "    <tr>\n",
       "      <td>2</td>\n",
       "      <td>2.916630</td>\n",
       "      <td>UrbanPopulationPercent</td>\n",
       "    </tr>\n",
       "    <tr>\n",
       "      <td>3</td>\n",
       "      <td>24.628111</td>\n",
       "      <td>HealthExpenditurePerCapita</td>\n",
       "    </tr>\n",
       "    <tr>\n",
       "      <td>4</td>\n",
       "      <td>29.844065</td>\n",
       "      <td>NumberOfDoctorsPercentTotal</td>\n",
       "    </tr>\n",
       "    <tr>\n",
       "      <td>5</td>\n",
       "      <td>66.846920</td>\n",
       "      <td>SeniorCitizenInCr</td>\n",
       "    </tr>\n",
       "    <tr>\n",
       "      <td>6</td>\n",
       "      <td>3.727648</td>\n",
       "      <td>CovidRecoveredCount</td>\n",
       "    </tr>\n",
       "    <tr>\n",
       "      <td>7</td>\n",
       "      <td>3.010695</td>\n",
       "      <td>CovidDeathCount</td>\n",
       "    </tr>\n",
       "  </tbody>\n",
       "</table>\n",
       "</div>"
      ],
      "text/plain": [
       "         VIF                     Features\n",
       "0  23.584492        PopulationSizePercent\n",
       "1   1.429741         PopulationDensityKm2\n",
       "2   2.916630       UrbanPopulationPercent\n",
       "3  24.628111   HealthExpenditurePerCapita\n",
       "4  29.844065  NumberOfDoctorsPercentTotal\n",
       "5  66.846920            SeniorCitizenInCr\n",
       "6   3.727648          CovidRecoveredCount\n",
       "7   3.010695              CovidDeathCount"
      ]
     },
     "execution_count": 136,
     "metadata": {},
     "output_type": "execute_result"
    }
   ],
   "source": [
    "variables=data.iloc[:,[0,1,2,3,4,5,6,7]]\n",
    "vif=pd.DataFrame()\n",
    "vif[\"VIF\"]=[variance_inflation_factor(variables.values,i) for i in range(variables.shape[1])]\n",
    "vif['Features']=variables.columns\n",
    "vif"
   ]
  },
  {
   "cell_type": "markdown",
   "metadata": {},
   "source": [
    "## But instead of using VIF we will use sparse matrix correlation"
   ]
  },
  {
   "cell_type": "code",
   "execution_count": 126,
   "metadata": {
    "scrolled": true
   },
   "outputs": [
    {
     "data": {
      "text/html": [
       "<div>\n",
       "<style scoped>\n",
       "    .dataframe tbody tr th:only-of-type {\n",
       "        vertical-align: middle;\n",
       "    }\n",
       "\n",
       "    .dataframe tbody tr th {\n",
       "        vertical-align: top;\n",
       "    }\n",
       "\n",
       "    .dataframe thead th {\n",
       "        text-align: right;\n",
       "    }\n",
       "</style>\n",
       "<table border=\"1\" class=\"dataframe\">\n",
       "  <thead>\n",
       "    <tr style=\"text-align: right;\">\n",
       "      <th></th>\n",
       "      <th>PopulationSizePercent</th>\n",
       "      <th>PopulationDensityKm2</th>\n",
       "      <th>UrbanPopulationPercent</th>\n",
       "      <th>HealthExpenditurePerCapita</th>\n",
       "      <th>NumberOfDoctorsPercentTotal</th>\n",
       "      <th>SeniorCitizenInCr</th>\n",
       "      <th>CovidRecoveredCount</th>\n",
       "      <th>CovidDeathCount</th>\n",
       "      <th>CovidCasesCount</th>\n",
       "    </tr>\n",
       "  </thead>\n",
       "  <tbody>\n",
       "    <tr>\n",
       "      <td>PopulationSizePercent</td>\n",
       "      <td>1.000000</td>\n",
       "      <td>-0.129751</td>\n",
       "      <td>0.274479</td>\n",
       "      <td>0.922187</td>\n",
       "      <td>0.899761</td>\n",
       "      <td>0.955147</td>\n",
       "      <td>0.413137</td>\n",
       "      <td>0.409941</td>\n",
       "      <td>0.515164</td>\n",
       "    </tr>\n",
       "    <tr>\n",
       "      <td>PopulationDensityKm2</td>\n",
       "      <td>-0.129751</td>\n",
       "      <td>1.000000</td>\n",
       "      <td>-0.910748</td>\n",
       "      <td>-0.090220</td>\n",
       "      <td>-0.064396</td>\n",
       "      <td>-0.178712</td>\n",
       "      <td>0.000311</td>\n",
       "      <td>-0.022809</td>\n",
       "      <td>0.177610</td>\n",
       "    </tr>\n",
       "    <tr>\n",
       "      <td>UrbanPopulationPercent</td>\n",
       "      <td>0.274479</td>\n",
       "      <td>-0.910748</td>\n",
       "      <td>1.000000</td>\n",
       "      <td>0.164808</td>\n",
       "      <td>0.126378</td>\n",
       "      <td>0.248386</td>\n",
       "      <td>-0.019101</td>\n",
       "      <td>0.003999</td>\n",
       "      <td>-0.147188</td>\n",
       "    </tr>\n",
       "    <tr>\n",
       "      <td>HealthExpenditurePerCapita</td>\n",
       "      <td>0.922187</td>\n",
       "      <td>-0.090220</td>\n",
       "      <td>0.164808</td>\n",
       "      <td>1.000000</td>\n",
       "      <td>0.894254</td>\n",
       "      <td>0.936059</td>\n",
       "      <td>0.522522</td>\n",
       "      <td>0.455668</td>\n",
       "      <td>0.673880</td>\n",
       "    </tr>\n",
       "    <tr>\n",
       "      <td>NumberOfDoctorsPercentTotal</td>\n",
       "      <td>0.899761</td>\n",
       "      <td>-0.064396</td>\n",
       "      <td>0.126378</td>\n",
       "      <td>0.894254</td>\n",
       "      <td>1.000000</td>\n",
       "      <td>0.955183</td>\n",
       "      <td>0.575307</td>\n",
       "      <td>0.580742</td>\n",
       "      <td>0.673951</td>\n",
       "    </tr>\n",
       "    <tr>\n",
       "      <td>SeniorCitizenInCr</td>\n",
       "      <td>0.955147</td>\n",
       "      <td>-0.178712</td>\n",
       "      <td>0.248386</td>\n",
       "      <td>0.936059</td>\n",
       "      <td>0.955183</td>\n",
       "      <td>1.000000</td>\n",
       "      <td>0.497814</td>\n",
       "      <td>0.490168</td>\n",
       "      <td>0.597008</td>\n",
       "    </tr>\n",
       "    <tr>\n",
       "      <td>CovidRecoveredCount</td>\n",
       "      <td>0.413137</td>\n",
       "      <td>0.000311</td>\n",
       "      <td>-0.019101</td>\n",
       "      <td>0.522522</td>\n",
       "      <td>0.575307</td>\n",
       "      <td>0.497814</td>\n",
       "      <td>1.000000</td>\n",
       "      <td>0.741111</td>\n",
       "      <td>0.745631</td>\n",
       "    </tr>\n",
       "    <tr>\n",
       "      <td>CovidDeathCount</td>\n",
       "      <td>0.409941</td>\n",
       "      <td>-0.022809</td>\n",
       "      <td>0.003999</td>\n",
       "      <td>0.455668</td>\n",
       "      <td>0.580742</td>\n",
       "      <td>0.490168</td>\n",
       "      <td>0.741111</td>\n",
       "      <td>1.000000</td>\n",
       "      <td>0.763751</td>\n",
       "    </tr>\n",
       "    <tr>\n",
       "      <td>CovidCasesCount</td>\n",
       "      <td>0.515164</td>\n",
       "      <td>0.177610</td>\n",
       "      <td>-0.147188</td>\n",
       "      <td>0.673880</td>\n",
       "      <td>0.673951</td>\n",
       "      <td>0.597008</td>\n",
       "      <td>0.745631</td>\n",
       "      <td>0.763751</td>\n",
       "      <td>1.000000</td>\n",
       "    </tr>\n",
       "  </tbody>\n",
       "</table>\n",
       "</div>"
      ],
      "text/plain": [
       "                             PopulationSizePercent  PopulationDensityKm2  \\\n",
       "PopulationSizePercent                     1.000000             -0.129751   \n",
       "PopulationDensityKm2                     -0.129751              1.000000   \n",
       "UrbanPopulationPercent                    0.274479             -0.910748   \n",
       "HealthExpenditurePerCapita                0.922187             -0.090220   \n",
       "NumberOfDoctorsPercentTotal               0.899761             -0.064396   \n",
       "SeniorCitizenInCr                         0.955147             -0.178712   \n",
       "CovidRecoveredCount                       0.413137              0.000311   \n",
       "CovidDeathCount                           0.409941             -0.022809   \n",
       "CovidCasesCount                           0.515164              0.177610   \n",
       "\n",
       "                             UrbanPopulationPercent  \\\n",
       "PopulationSizePercent                      0.274479   \n",
       "PopulationDensityKm2                      -0.910748   \n",
       "UrbanPopulationPercent                     1.000000   \n",
       "HealthExpenditurePerCapita                 0.164808   \n",
       "NumberOfDoctorsPercentTotal                0.126378   \n",
       "SeniorCitizenInCr                          0.248386   \n",
       "CovidRecoveredCount                       -0.019101   \n",
       "CovidDeathCount                            0.003999   \n",
       "CovidCasesCount                           -0.147188   \n",
       "\n",
       "                             HealthExpenditurePerCapita  \\\n",
       "PopulationSizePercent                          0.922187   \n",
       "PopulationDensityKm2                          -0.090220   \n",
       "UrbanPopulationPercent                         0.164808   \n",
       "HealthExpenditurePerCapita                     1.000000   \n",
       "NumberOfDoctorsPercentTotal                    0.894254   \n",
       "SeniorCitizenInCr                              0.936059   \n",
       "CovidRecoveredCount                            0.522522   \n",
       "CovidDeathCount                                0.455668   \n",
       "CovidCasesCount                                0.673880   \n",
       "\n",
       "                             NumberOfDoctorsPercentTotal  SeniorCitizenInCr  \\\n",
       "PopulationSizePercent                           0.899761           0.955147   \n",
       "PopulationDensityKm2                           -0.064396          -0.178712   \n",
       "UrbanPopulationPercent                          0.126378           0.248386   \n",
       "HealthExpenditurePerCapita                      0.894254           0.936059   \n",
       "NumberOfDoctorsPercentTotal                     1.000000           0.955183   \n",
       "SeniorCitizenInCr                               0.955183           1.000000   \n",
       "CovidRecoveredCount                             0.575307           0.497814   \n",
       "CovidDeathCount                                 0.580742           0.490168   \n",
       "CovidCasesCount                                 0.673951           0.597008   \n",
       "\n",
       "                             CovidRecoveredCount  CovidDeathCount  \\\n",
       "PopulationSizePercent                   0.413137         0.409941   \n",
       "PopulationDensityKm2                    0.000311        -0.022809   \n",
       "UrbanPopulationPercent                 -0.019101         0.003999   \n",
       "HealthExpenditurePerCapita              0.522522         0.455668   \n",
       "NumberOfDoctorsPercentTotal             0.575307         0.580742   \n",
       "SeniorCitizenInCr                       0.497814         0.490168   \n",
       "CovidRecoveredCount                     1.000000         0.741111   \n",
       "CovidDeathCount                         0.741111         1.000000   \n",
       "CovidCasesCount                         0.745631         0.763751   \n",
       "\n",
       "                             CovidCasesCount  \n",
       "PopulationSizePercent               0.515164  \n",
       "PopulationDensityKm2                0.177610  \n",
       "UrbanPopulationPercent             -0.147188  \n",
       "HealthExpenditurePerCapita          0.673880  \n",
       "NumberOfDoctorsPercentTotal         0.673951  \n",
       "SeniorCitizenInCr                   0.597008  \n",
       "CovidRecoveredCount                 0.745631  \n",
       "CovidDeathCount                     0.763751  \n",
       "CovidCasesCount                     1.000000  "
      ]
     },
     "execution_count": 126,
     "metadata": {},
     "output_type": "execute_result"
    }
   ],
   "source": [
    "data.corr()"
   ]
  },
  {
   "cell_type": "markdown",
   "metadata": {},
   "source": [
    "### Results"
   ]
  },
  {
   "cell_type": "markdown",
   "metadata": {},
   "source": [
    "**1. Attribute PopSizePercent is highly correlated with HealthExpenPerCapita, NoOfDocPercentTotal, SeniorCitizenInCr.** \n",
    "           **Action: Attribute PopSizePercent will be dropped.**\n",
    "\n",
    "**2. PopDensityKm2 is negatively correlated with UrbanPopPercent and explained well by UrbanPopPercent.**\n",
    "           **Action: PopDensityKm2 will be dropped.**\n",
    "\n",
    "**3. NoOfDocPercentTotal is highly correlated with almost all the attributes.**\n",
    "           **Action: Attribute NoOfDocPercentTotal will be dropped**\n",
    "   \n",
    "**Final Attributes Kept: UrbanPopPercent, HealthExpenPerCapita, SeniorCitizenInCr, CovidRecoveredCount, CovidDeathCount**\n",
    "\n"
   ]
  },
  {
   "cell_type": "markdown",
   "metadata": {},
   "source": [
    "# Now we will fit the model on the original data"
   ]
  },
  {
   "cell_type": "markdown",
   "metadata": {},
   "source": [
    "### Fitting linear Regression"
   ]
  },
  {
   "cell_type": "code",
   "execution_count": 73,
   "metadata": {},
   "outputs": [],
   "source": [
    "# Slicing Independent and dependent attributes\n",
    "X_attr = data.iloc[:,[0,1,2,3,4,5,6,7]]\n",
    "Y_attr = data['CovidCasesCount']\n",
    "\n",
    "# Dividing data into train and test\n",
    "X_train, X_test, y_train, y_test = train_test_split(X_attr,Y_attr,test_size = 0.20, random_state = 1)\n",
    "\n",
    "# Initiliazing Linear Regression Model\n",
    "model_linear = LinearRegression()\n",
    "\n",
    "# Fitting Linear Model\n",
    "model_linear.fit(X_train, y_train)\n",
    "\n",
    "# Predicting on test dataset\n",
    "y_test_pred = model_linear.predict(X_test) "
   ]
  },
  {
   "cell_type": "markdown",
   "metadata": {},
   "source": [
    "### Getting the summary for the data"
   ]
  },
  {
   "cell_type": "code",
   "execution_count": 98,
   "metadata": {
    "scrolled": true
   },
   "outputs": [
    {
     "data": {
      "text/html": [
       "<table class=\"simpletable\">\n",
       "<caption>OLS Regression Results</caption>\n",
       "<tr>\n",
       "  <th>Dep. Variable:</th>     <td>CovidCasesCount</td> <th>  R-squared:         </th> <td>   0.850</td>\n",
       "</tr>\n",
       "<tr>\n",
       "  <th>Model:</th>                   <td>OLS</td>       <th>  Adj. R-squared:    </th> <td>   0.793</td>\n",
       "</tr>\n",
       "<tr>\n",
       "  <th>Method:</th>             <td>Least Squares</td>  <th>  F-statistic:       </th> <td>   14.91</td>\n",
       "</tr>\n",
       "<tr>\n",
       "  <th>Date:</th>             <td>Sun, 12 Apr 2020</td> <th>  Prob (F-statistic):</th> <td>4.56e-07</td>\n",
       "</tr>\n",
       "<tr>\n",
       "  <th>Time:</th>                 <td>17:13:02</td>     <th>  Log-Likelihood:    </th> <td> -181.67</td>\n",
       "</tr>\n",
       "<tr>\n",
       "  <th>No. Observations:</th>      <td>    30</td>      <th>  AIC:               </th> <td>   381.3</td>\n",
       "</tr>\n",
       "<tr>\n",
       "  <th>Df Residuals:</th>          <td>    21</td>      <th>  BIC:               </th> <td>   393.9</td>\n",
       "</tr>\n",
       "<tr>\n",
       "  <th>Df Model:</th>              <td>     8</td>      <th>                     </th>     <td> </td>   \n",
       "</tr>\n",
       "<tr>\n",
       "  <th>Covariance Type:</th>      <td>nonrobust</td>    <th>                     </th>     <td> </td>   \n",
       "</tr>\n",
       "</table>\n",
       "<table class=\"simpletable\">\n",
       "<tr>\n",
       "               <td></td>                  <th>coef</th>     <th>std err</th>      <th>t</th>      <th>P>|t|</th>  <th>[0.025</th>    <th>0.975]</th>  \n",
       "</tr>\n",
       "<tr>\n",
       "  <th>const</th>                       <td> -618.4773</td> <td>  365.157</td> <td>   -1.694</td> <td> 0.105</td> <td>-1377.863</td> <td>  140.909</td>\n",
       "</tr>\n",
       "<tr>\n",
       "  <th>PopulationSizePercent</th>       <td>  -70.0109</td> <td>   29.493</td> <td>   -2.374</td> <td> 0.027</td> <td> -131.345</td> <td>   -8.677</td>\n",
       "</tr>\n",
       "<tr>\n",
       "  <th>PopulationDensityKm2</th>        <td>    0.0598</td> <td>    0.029</td> <td>    2.097</td> <td> 0.048</td> <td>    0.000</td> <td>    0.119</td>\n",
       "</tr>\n",
       "<tr>\n",
       "  <th>UrbanPopulationPercent</th>      <td>  126.2517</td> <td>   84.957</td> <td>    1.486</td> <td> 0.152</td> <td>  -50.427</td> <td>  302.930</td>\n",
       "</tr>\n",
       "<tr>\n",
       "  <th>HealthExpenditurePerCapita</th>  <td>    0.0621</td> <td>    0.017</td> <td>    3.554</td> <td> 0.002</td> <td>    0.026</td> <td>    0.098</td>\n",
       "</tr>\n",
       "<tr>\n",
       "  <th>NumberOfDoctorsPercentTotal</th> <td>    9.4909</td> <td>   24.435</td> <td>    0.388</td> <td> 0.702</td> <td>  -41.324</td> <td>   60.306</td>\n",
       "</tr>\n",
       "<tr>\n",
       "  <th>SeniorCitizenInCr</th>           <td>  168.1851</td> <td>  490.425</td> <td>    0.343</td> <td> 0.735</td> <td> -851.709</td> <td> 1188.079</td>\n",
       "</tr>\n",
       "<tr>\n",
       "  <th>CovidRecoveredCount</th>         <td>    1.4026</td> <td>    1.454</td> <td>    0.965</td> <td> 0.346</td> <td>   -1.620</td> <td>    4.426</td>\n",
       "</tr>\n",
       "<tr>\n",
       "  <th>CovidDeathCount</th>             <td>    9.3273</td> <td>    2.754</td> <td>    3.387</td> <td> 0.003</td> <td>    3.601</td> <td>   15.054</td>\n",
       "</tr>\n",
       "</table>\n",
       "<table class=\"simpletable\">\n",
       "<tr>\n",
       "  <th>Omnibus:</th>       <td>15.028</td> <th>  Durbin-Watson:     </th> <td>   1.542</td>\n",
       "</tr>\n",
       "<tr>\n",
       "  <th>Prob(Omnibus):</th> <td> 0.001</td> <th>  Jarque-Bera (JB):  </th> <td>  20.634</td>\n",
       "</tr>\n",
       "<tr>\n",
       "  <th>Skew:</th>          <td> 1.150</td> <th>  Prob(JB):          </th> <td>3.31e-05</td>\n",
       "</tr>\n",
       "<tr>\n",
       "  <th>Kurtosis:</th>      <td> 6.349</td> <th>  Cond. No.          </th> <td>1.53e+05</td>\n",
       "</tr>\n",
       "</table><br/><br/>Warnings:<br/>[1] Standard Errors assume that the covariance matrix of the errors is correctly specified.<br/>[2] The condition number is large, 1.53e+05. This might indicate that there are<br/>strong multicollinearity or other numerical problems."
      ],
      "text/plain": [
       "<class 'statsmodels.iolib.summary.Summary'>\n",
       "\"\"\"\n",
       "                            OLS Regression Results                            \n",
       "==============================================================================\n",
       "Dep. Variable:        CovidCasesCount   R-squared:                       0.850\n",
       "Model:                            OLS   Adj. R-squared:                  0.793\n",
       "Method:                 Least Squares   F-statistic:                     14.91\n",
       "Date:                Sun, 12 Apr 2020   Prob (F-statistic):           4.56e-07\n",
       "Time:                        17:13:02   Log-Likelihood:                -181.67\n",
       "No. Observations:                  30   AIC:                             381.3\n",
       "Df Residuals:                      21   BIC:                             393.9\n",
       "Df Model:                           8                                         \n",
       "Covariance Type:            nonrobust                                         \n",
       "===============================================================================================\n",
       "                                  coef    std err          t      P>|t|      [0.025      0.975]\n",
       "-----------------------------------------------------------------------------------------------\n",
       "const                        -618.4773    365.157     -1.694      0.105   -1377.863     140.909\n",
       "PopulationSizePercent         -70.0109     29.493     -2.374      0.027    -131.345      -8.677\n",
       "PopulationDensityKm2            0.0598      0.029      2.097      0.048       0.000       0.119\n",
       "UrbanPopulationPercent        126.2517     84.957      1.486      0.152     -50.427     302.930\n",
       "HealthExpenditurePerCapita      0.0621      0.017      3.554      0.002       0.026       0.098\n",
       "NumberOfDoctorsPercentTotal     9.4909     24.435      0.388      0.702     -41.324      60.306\n",
       "SeniorCitizenInCr             168.1851    490.425      0.343      0.735    -851.709    1188.079\n",
       "CovidRecoveredCount             1.4026      1.454      0.965      0.346      -1.620       4.426\n",
       "CovidDeathCount                 9.3273      2.754      3.387      0.003       3.601      15.054\n",
       "==============================================================================\n",
       "Omnibus:                       15.028   Durbin-Watson:                   1.542\n",
       "Prob(Omnibus):                  0.001   Jarque-Bera (JB):               20.634\n",
       "Skew:                           1.150   Prob(JB):                     3.31e-05\n",
       "Kurtosis:                       6.349   Cond. No.                     1.53e+05\n",
       "==============================================================================\n",
       "\n",
       "Warnings:\n",
       "[1] Standard Errors assume that the covariance matrix of the errors is correctly specified.\n",
       "[2] The condition number is large, 1.53e+05. This might indicate that there are\n",
       "strong multicollinearity or other numerical problems.\n",
       "\"\"\""
      ]
     },
     "execution_count": 98,
     "metadata": {},
     "output_type": "execute_result"
    }
   ],
   "source": [
    "X_attr = data.iloc[:,[0,1,2,3,4,5,6,7]]\n",
    "Y_attr = data['CovidCasesCount']\n",
    "x_c=sm.add_constant(X_attr)\n",
    "reg1=sm.OLS(Y_attr,x_c).fit()\n",
    "reg1.summary()"
   ]
  },
  {
   "cell_type": "code",
   "execution_count": 75,
   "metadata": {},
   "outputs": [
    {
     "name": "stdout",
     "output_type": "stream",
     "text": [
      "The model R Squared value is 0.9131063101190204\n"
     ]
    }
   ],
   "source": [
    "print(\"The model R Squared value is\", r2_score(y_true=y_test, y_pred=y_test_pred))"
   ]
  },
  {
   "cell_type": "code",
   "execution_count": 138,
   "metadata": {},
   "outputs": [
    {
     "name": "stdout",
     "output_type": "stream",
     "text": [
      "The mean squared error is 114103.42181775777\n"
     ]
    }
   ],
   "source": [
    "print(\"The mean squared error is\", mean_squared_error(y_test, y_test_pred))"
   ]
  },
  {
   "cell_type": "markdown",
   "metadata": {},
   "source": [
    "### Comparing the actual and predicted values"
   ]
  },
  {
   "cell_type": "code",
   "execution_count": 77,
   "metadata": {},
   "outputs": [
    {
     "data": {
      "text/html": [
       "<div>\n",
       "<style scoped>\n",
       "    .dataframe tbody tr th:only-of-type {\n",
       "        vertical-align: middle;\n",
       "    }\n",
       "\n",
       "    .dataframe tbody tr th {\n",
       "        vertical-align: top;\n",
       "    }\n",
       "\n",
       "    .dataframe thead th {\n",
       "        text-align: right;\n",
       "    }\n",
       "</style>\n",
       "<table border=\"1\" class=\"dataframe\">\n",
       "  <thead>\n",
       "    <tr style=\"text-align: right;\">\n",
       "      <th></th>\n",
       "      <th>Actual</th>\n",
       "      <th>Predicted</th>\n",
       "    </tr>\n",
       "  </thead>\n",
       "  <tbody>\n",
       "    <tr>\n",
       "      <td>17</td>\n",
       "      <td>1135</td>\n",
       "      <td>1222.16</td>\n",
       "    </tr>\n",
       "    <tr>\n",
       "      <td>21</td>\n",
       "      <td>5</td>\n",
       "      <td>-2.40</td>\n",
       "    </tr>\n",
       "    <tr>\n",
       "      <td>10</td>\n",
       "      <td>169</td>\n",
       "      <td>244.19</td>\n",
       "    </tr>\n",
       "    <tr>\n",
       "      <td>19</td>\n",
       "      <td>1</td>\n",
       "      <td>-126.07</td>\n",
       "    </tr>\n",
       "    <tr>\n",
       "      <td>14</td>\n",
       "      <td>345</td>\n",
       "      <td>537.84</td>\n",
       "    </tr>\n",
       "    <tr>\n",
       "      <td>20</td>\n",
       "      <td>42</td>\n",
       "      <td>170.74</td>\n",
       "    </tr>\n",
       "  </tbody>\n",
       "</table>\n",
       "</div>"
      ],
      "text/plain": [
       "    Actual  Predicted\n",
       "17    1135    1222.16\n",
       "21       5      -2.40\n",
       "10     169     244.19\n",
       "19       1    -126.07\n",
       "14     345     537.84\n",
       "20      42     170.74"
      ]
     },
     "execution_count": 77,
     "metadata": {},
     "output_type": "execute_result"
    }
   ],
   "source": [
    "pd.DataFrame({'Actual': y_test, 'Predicted': y_test_pred.round(2)})"
   ]
  },
  {
   "cell_type": "markdown",
   "metadata": {},
   "source": [
    "### Clearly our predicted and actual values varies a lot because of multicollinearity and some other factors also ,so in next model we will drop columns with multicollinearity and check again"
   ]
  },
  {
   "cell_type": "markdown",
   "metadata": {},
   "source": [
    "# Model2(Without Multicollinearity)"
   ]
  },
  {
   "cell_type": "code",
   "execution_count": 140,
   "metadata": {},
   "outputs": [],
   "source": [
    "# Sepcifying all features\n",
    "features = ['UrbanPopulationPercent','HealthExpenditurePerCapita', 'SeniorCitizenInCr','CovidRecoveredCount', 'CovidDeathCount']\n",
    "\n",
    "# Slicing Independent and dependent attributes\n",
    "X_attr = data[features]\n",
    "Y_attr = data['CovidCasesCount']\n",
    "\n",
    "# Dividing data into train and test\n",
    "X_train, X_test, y_train, y_test = train_test_split(X_attr,Y_attr,test_size = 0.20, random_state = 1)\n",
    "\n",
    "# Initiliazing Linear Regression Model\n",
    "model_linear_2 = LinearRegression()\n",
    "\n",
    "# Fitting Linear Model\n",
    "model_linear_2.fit(X_train, y_train)\n",
    "\n",
    "# Predicting on test dataset\n",
    "y_test_pred_2 = model_linear_2.predict(X_test) "
   ]
  },
  {
   "cell_type": "code",
   "execution_count": 141,
   "metadata": {},
   "outputs": [
    {
     "name": "stdout",
     "output_type": "stream",
     "text": [
      "The model R Squared value is 0.9683\n"
     ]
    }
   ],
   "source": [
    "print(\"The model R Squared value is\", r2_score(y_true=y_test, y_pred=y_test_pred_2).round(4))"
   ]
  },
  {
   "cell_type": "code",
   "execution_count": 142,
   "metadata": {},
   "outputs": [
    {
     "name": "stdout",
     "output_type": "stream",
     "text": [
      "The Mean Squared Error is  5055.89\n"
     ]
    }
   ],
   "source": [
    "print(\"The Mean Squared Error is \", mean_squared_error(y_test, y_test_pred_2).round(2))"
   ]
  },
  {
   "cell_type": "markdown",
   "metadata": {},
   "source": [
    "## Again comparing Actual and Predicted values"
   ]
  },
  {
   "cell_type": "code",
   "execution_count": 143,
   "metadata": {},
   "outputs": [
    {
     "data": {
      "text/html": [
       "<div>\n",
       "<style scoped>\n",
       "    .dataframe tbody tr th:only-of-type {\n",
       "        vertical-align: middle;\n",
       "    }\n",
       "\n",
       "    .dataframe tbody tr th {\n",
       "        vertical-align: top;\n",
       "    }\n",
       "\n",
       "    .dataframe thead th {\n",
       "        text-align: right;\n",
       "    }\n",
       "</style>\n",
       "<table border=\"1\" class=\"dataframe\">\n",
       "  <thead>\n",
       "    <tr style=\"text-align: right;\">\n",
       "      <th></th>\n",
       "      <th>Actual</th>\n",
       "      <th>Predicted</th>\n",
       "    </tr>\n",
       "  </thead>\n",
       "  <tbody>\n",
       "    <tr>\n",
       "      <td>17</td>\n",
       "      <td>1135</td>\n",
       "      <td>1265.0</td>\n",
       "    </tr>\n",
       "    <tr>\n",
       "      <td>21</td>\n",
       "      <td>5</td>\n",
       "      <td>2.0</td>\n",
       "    </tr>\n",
       "    <tr>\n",
       "      <td>10</td>\n",
       "      <td>169</td>\n",
       "      <td>192.0</td>\n",
       "    </tr>\n",
       "    <tr>\n",
       "      <td>19</td>\n",
       "      <td>1</td>\n",
       "      <td>-19.0</td>\n",
       "    </tr>\n",
       "    <tr>\n",
       "      <td>14</td>\n",
       "      <td>345</td>\n",
       "      <td>437.0</td>\n",
       "    </tr>\n",
       "    <tr>\n",
       "      <td>20</td>\n",
       "      <td>42</td>\n",
       "      <td>105.0</td>\n",
       "    </tr>\n",
       "  </tbody>\n",
       "</table>\n",
       "</div>"
      ],
      "text/plain": [
       "    Actual  Predicted\n",
       "17    1135     1265.0\n",
       "21       5        2.0\n",
       "10     169      192.0\n",
       "19       1      -19.0\n",
       "14     345      437.0\n",
       "20      42      105.0"
      ]
     },
     "execution_count": 143,
     "metadata": {},
     "output_type": "execute_result"
    }
   ],
   "source": [
    "pd.DataFrame({'Actual': y_test, 'Predicted': y_test_pred_2.round(0)})"
   ]
  },
  {
   "cell_type": "code",
   "execution_count": 144,
   "metadata": {},
   "outputs": [
    {
     "data": {
      "text/html": [
       "<div>\n",
       "<style scoped>\n",
       "    .dataframe tbody tr th:only-of-type {\n",
       "        vertical-align: middle;\n",
       "    }\n",
       "\n",
       "    .dataframe tbody tr th {\n",
       "        vertical-align: top;\n",
       "    }\n",
       "\n",
       "    .dataframe thead th {\n",
       "        text-align: right;\n",
       "    }\n",
       "</style>\n",
       "<table border=\"1\" class=\"dataframe\">\n",
       "  <thead>\n",
       "    <tr style=\"text-align: right;\">\n",
       "      <th></th>\n",
       "      <th>Actual</th>\n",
       "      <th>Predicted</th>\n",
       "    </tr>\n",
       "  </thead>\n",
       "  <tbody>\n",
       "    <tr>\n",
       "      <td>17</td>\n",
       "      <td>1135</td>\n",
       "      <td>1265.0</td>\n",
       "    </tr>\n",
       "    <tr>\n",
       "      <td>21</td>\n",
       "      <td>5</td>\n",
       "      <td>2.0</td>\n",
       "    </tr>\n",
       "    <tr>\n",
       "      <td>10</td>\n",
       "      <td>169</td>\n",
       "      <td>192.0</td>\n",
       "    </tr>\n",
       "    <tr>\n",
       "      <td>19</td>\n",
       "      <td>1</td>\n",
       "      <td>0.0</td>\n",
       "    </tr>\n",
       "    <tr>\n",
       "      <td>14</td>\n",
       "      <td>345</td>\n",
       "      <td>437.0</td>\n",
       "    </tr>\n",
       "    <tr>\n",
       "      <td>20</td>\n",
       "      <td>42</td>\n",
       "      <td>105.0</td>\n",
       "    </tr>\n",
       "  </tbody>\n",
       "</table>\n",
       "</div>"
      ],
      "text/plain": [
       "    Actual  Predicted\n",
       "17    1135     1265.0\n",
       "21       5        2.0\n",
       "10     169      192.0\n",
       "19       1        0.0\n",
       "14     345      437.0\n",
       "20      42      105.0"
      ]
     },
     "execution_count": 144,
     "metadata": {},
     "output_type": "execute_result"
    }
   ],
   "source": [
    "# Imputing negative value with 0\n",
    "y_test_pred_2[y_test_pred_2 < 0 ] = 0\n",
    "\n",
    "# Dataframe of Actual and Predicted\n",
    "pd.DataFrame({'Actual': y_test, 'Predicted': y_test_pred_2.round(0)})"
   ]
  },
  {
   "cell_type": "markdown",
   "metadata": {},
   "source": [
    "#### Now after removing Multicollinearity actual values and predicted values are more close"
   ]
  },
  {
   "cell_type": "markdown",
   "metadata": {},
   "source": [
    "## Finding the summary"
   ]
  },
  {
   "cell_type": "code",
   "execution_count": 107,
   "metadata": {
    "scrolled": true
   },
   "outputs": [
    {
     "data": {
      "text/html": [
       "<table class=\"simpletable\">\n",
       "<caption>OLS Regression Results</caption>\n",
       "<tr>\n",
       "  <th>Dep. Variable:</th>     <td>CovidCasesCount</td> <th>  R-squared:         </th> <td>   0.803</td>\n",
       "</tr>\n",
       "<tr>\n",
       "  <th>Model:</th>                   <td>OLS</td>       <th>  Adj. R-squared:    </th> <td>   0.762</td>\n",
       "</tr>\n",
       "<tr>\n",
       "  <th>Method:</th>             <td>Least Squares</td>  <th>  F-statistic:       </th> <td>   19.57</td>\n",
       "</tr>\n",
       "<tr>\n",
       "  <th>Date:</th>             <td>Sun, 12 Apr 2020</td> <th>  Prob (F-statistic):</th> <td>9.14e-08</td>\n",
       "</tr>\n",
       "<tr>\n",
       "  <th>Time:</th>                 <td>17:25:18</td>     <th>  Log-Likelihood:    </th> <td> -185.78</td>\n",
       "</tr>\n",
       "<tr>\n",
       "  <th>No. Observations:</th>      <td>    30</td>      <th>  AIC:               </th> <td>   383.6</td>\n",
       "</tr>\n",
       "<tr>\n",
       "  <th>Df Residuals:</th>          <td>    24</td>      <th>  BIC:               </th> <td>   392.0</td>\n",
       "</tr>\n",
       "<tr>\n",
       "  <th>Df Model:</th>              <td>     5</td>      <th>                     </th>     <td> </td>   \n",
       "</tr>\n",
       "<tr>\n",
       "  <th>Covariance Type:</th>      <td>nonrobust</td>    <th>                     </th>     <td> </td>   \n",
       "</tr>\n",
       "</table>\n",
       "<table class=\"simpletable\">\n",
       "<tr>\n",
       "               <td></td>                 <th>coef</th>     <th>std err</th>      <th>t</th>      <th>P>|t|</th>  <th>[0.025</th>    <th>0.975]</th>  \n",
       "</tr>\n",
       "<tr>\n",
       "  <th>const</th>                      <td>  163.0236</td> <td>  123.435</td> <td>    1.321</td> <td> 0.199</td> <td>  -91.734</td> <td>  417.781</td>\n",
       "</tr>\n",
       "<tr>\n",
       "  <th>UrbanPopulationPercent</th>     <td>  -53.3330</td> <td>   30.028</td> <td>   -1.776</td> <td> 0.088</td> <td> -115.307</td> <td>    8.641</td>\n",
       "</tr>\n",
       "<tr>\n",
       "  <th>HealthExpenditurePerCapita</th> <td>    0.0486</td> <td>    0.017</td> <td>    2.795</td> <td> 0.010</td> <td>    0.013</td> <td>    0.084</td>\n",
       "</tr>\n",
       "<tr>\n",
       "  <th>SeniorCitizenInCr</th>          <td> -367.1947</td> <td>  256.742</td> <td>   -1.430</td> <td> 0.166</td> <td> -897.083</td> <td>  162.694</td>\n",
       "</tr>\n",
       "<tr>\n",
       "  <th>CovidRecoveredCount</th>        <td>    2.0785</td> <td>    1.507</td> <td>    1.379</td> <td> 0.181</td> <td>   -1.032</td> <td>    5.189</td>\n",
       "</tr>\n",
       "<tr>\n",
       "  <th>CovidDeathCount</th>            <td>    9.5029</td> <td>    2.859</td> <td>    3.323</td> <td> 0.003</td> <td>    3.601</td> <td>   15.404</td>\n",
       "</tr>\n",
       "</table>\n",
       "<table class=\"simpletable\">\n",
       "<tr>\n",
       "  <th>Omnibus:</th>       <td>13.673</td> <th>  Durbin-Watson:     </th> <td>   1.385</td>\n",
       "</tr>\n",
       "<tr>\n",
       "  <th>Prob(Omnibus):</th> <td> 0.001</td> <th>  Jarque-Bera (JB):  </th> <td>  16.855</td>\n",
       "</tr>\n",
       "<tr>\n",
       "  <th>Skew:</th>          <td> 1.104</td> <th>  Prob(JB):          </th> <td>0.000219</td>\n",
       "</tr>\n",
       "<tr>\n",
       "  <th>Kurtosis:</th>      <td> 5.934</td> <th>  Cond. No.          </th> <td>7.17e+04</td>\n",
       "</tr>\n",
       "</table><br/><br/>Warnings:<br/>[1] Standard Errors assume that the covariance matrix of the errors is correctly specified.<br/>[2] The condition number is large, 7.17e+04. This might indicate that there are<br/>strong multicollinearity or other numerical problems."
      ],
      "text/plain": [
       "<class 'statsmodels.iolib.summary.Summary'>\n",
       "\"\"\"\n",
       "                            OLS Regression Results                            \n",
       "==============================================================================\n",
       "Dep. Variable:        CovidCasesCount   R-squared:                       0.803\n",
       "Model:                            OLS   Adj. R-squared:                  0.762\n",
       "Method:                 Least Squares   F-statistic:                     19.57\n",
       "Date:                Sun, 12 Apr 2020   Prob (F-statistic):           9.14e-08\n",
       "Time:                        17:25:18   Log-Likelihood:                -185.78\n",
       "No. Observations:                  30   AIC:                             383.6\n",
       "Df Residuals:                      24   BIC:                             392.0\n",
       "Df Model:                           5                                         \n",
       "Covariance Type:            nonrobust                                         \n",
       "==============================================================================================\n",
       "                                 coef    std err          t      P>|t|      [0.025      0.975]\n",
       "----------------------------------------------------------------------------------------------\n",
       "const                        163.0236    123.435      1.321      0.199     -91.734     417.781\n",
       "UrbanPopulationPercent       -53.3330     30.028     -1.776      0.088    -115.307       8.641\n",
       "HealthExpenditurePerCapita     0.0486      0.017      2.795      0.010       0.013       0.084\n",
       "SeniorCitizenInCr           -367.1947    256.742     -1.430      0.166    -897.083     162.694\n",
       "CovidRecoveredCount            2.0785      1.507      1.379      0.181      -1.032       5.189\n",
       "CovidDeathCount                9.5029      2.859      3.323      0.003       3.601      15.404\n",
       "==============================================================================\n",
       "Omnibus:                       13.673   Durbin-Watson:                   1.385\n",
       "Prob(Omnibus):                  0.001   Jarque-Bera (JB):               16.855\n",
       "Skew:                           1.104   Prob(JB):                     0.000219\n",
       "Kurtosis:                       5.934   Cond. No.                     7.17e+04\n",
       "==============================================================================\n",
       "\n",
       "Warnings:\n",
       "[1] Standard Errors assume that the covariance matrix of the errors is correctly specified.\n",
       "[2] The condition number is large, 7.17e+04. This might indicate that there are\n",
       "strong multicollinearity or other numerical problems.\n",
       "\"\"\""
      ]
     },
     "execution_count": 107,
     "metadata": {},
     "output_type": "execute_result"
    }
   ],
   "source": [
    "feat = ['UrbanPopulationPercent','HealthExpenditurePerCapita', 'SeniorCitizenInCr','CovidRecoveredCount', 'CovidDeathCount']\n",
    "y=data['CovidCasesCount']\n",
    "x2=data[feat]\n",
    "x=sm.add_constant(x2)\n",
    "reg=sm.OLS(y,x).fit()\n",
    "reg.summary()"
   ]
  },
  {
   "cell_type": "markdown",
   "metadata": {},
   "source": [
    "# Backward elimination"
   ]
  },
  {
   "cell_type": "markdown",
   "metadata": {},
   "source": [
    "### We can clearly notice that P value of CovidRecoveredCount >0.05 , so we can drop that column also."
   ]
  },
  {
   "cell_type": "markdown",
   "metadata": {},
   "source": [
    "### After dropping CovidRecoveredCount lets see the summary again"
   ]
  },
  {
   "cell_type": "code",
   "execution_count": 105,
   "metadata": {
    "collapsed": true
   },
   "outputs": [
    {
     "data": {
      "text/html": [
       "<table class=\"simpletable\">\n",
       "<caption>OLS Regression Results</caption>\n",
       "<tr>\n",
       "  <th>Dep. Variable:</th>     <td>CovidCasesCount</td> <th>  R-squared:         </th> <td>   0.787</td>\n",
       "</tr>\n",
       "<tr>\n",
       "  <th>Model:</th>                   <td>OLS</td>       <th>  Adj. R-squared:    </th> <td>   0.753</td>\n",
       "</tr>\n",
       "<tr>\n",
       "  <th>Method:</th>             <td>Least Squares</td>  <th>  F-statistic:       </th> <td>   23.15</td>\n",
       "</tr>\n",
       "<tr>\n",
       "  <th>Date:</th>             <td>Sun, 12 Apr 2020</td> <th>  Prob (F-statistic):</th> <td>4.25e-08</td>\n",
       "</tr>\n",
       "<tr>\n",
       "  <th>Time:</th>                 <td>17:22:43</td>     <th>  Log-Likelihood:    </th> <td> -186.92</td>\n",
       "</tr>\n",
       "<tr>\n",
       "  <th>No. Observations:</th>      <td>    30</td>      <th>  AIC:               </th> <td>   383.8</td>\n",
       "</tr>\n",
       "<tr>\n",
       "  <th>Df Residuals:</th>          <td>    25</td>      <th>  BIC:               </th> <td>   390.9</td>\n",
       "</tr>\n",
       "<tr>\n",
       "  <th>Df Model:</th>              <td>     4</td>      <th>                     </th>     <td> </td>   \n",
       "</tr>\n",
       "<tr>\n",
       "  <th>Covariance Type:</th>      <td>nonrobust</td>    <th>                     </th>     <td> </td>   \n",
       "</tr>\n",
       "</table>\n",
       "<table class=\"simpletable\">\n",
       "<tr>\n",
       "               <td></td>                 <th>coef</th>     <th>std err</th>      <th>t</th>      <th>P>|t|</th>  <th>[0.025</th>    <th>0.975]</th>  \n",
       "</tr>\n",
       "<tr>\n",
       "  <th>const</th>                      <td>  172.9342</td> <td>  125.428</td> <td>    1.379</td> <td> 0.180</td> <td>  -85.389</td> <td>  431.258</td>\n",
       "</tr>\n",
       "<tr>\n",
       "  <th>UrbanPopulationPercent</th>     <td>  -55.6646</td> <td>   30.516</td> <td>   -1.824</td> <td> 0.080</td> <td> -118.513</td> <td>    7.184</td>\n",
       "</tr>\n",
       "<tr>\n",
       "  <th>HealthExpenditurePerCapita</th> <td>    0.0543</td> <td>    0.017</td> <td>    3.164</td> <td> 0.004</td> <td>    0.019</td> <td>    0.090</td>\n",
       "</tr>\n",
       "<tr>\n",
       "  <th>SeniorCitizenInCr</th>          <td> -410.3264</td> <td>  259.383</td> <td>   -1.582</td> <td> 0.126</td> <td> -944.536</td> <td>  123.883</td>\n",
       "</tr>\n",
       "<tr>\n",
       "  <th>CovidDeathCount</th>            <td>   12.1228</td> <td>    2.175</td> <td>    5.573</td> <td> 0.000</td> <td>    7.643</td> <td>   16.602</td>\n",
       "</tr>\n",
       "</table>\n",
       "<table class=\"simpletable\">\n",
       "<tr>\n",
       "  <th>Omnibus:</th>       <td> 8.349</td> <th>  Durbin-Watson:     </th> <td>   1.498</td>\n",
       "</tr>\n",
       "<tr>\n",
       "  <th>Prob(Omnibus):</th> <td> 0.015</td> <th>  Jarque-Bera (JB):  </th> <td>   7.885</td>\n",
       "</tr>\n",
       "<tr>\n",
       "  <th>Skew:</th>          <td> 0.746</td> <th>  Prob(JB):          </th> <td>  0.0194</td>\n",
       "</tr>\n",
       "<tr>\n",
       "  <th>Kurtosis:</th>      <td> 5.020</td> <th>  Cond. No.          </th> <td>7.13e+04</td>\n",
       "</tr>\n",
       "</table><br/><br/>Warnings:<br/>[1] Standard Errors assume that the covariance matrix of the errors is correctly specified.<br/>[2] The condition number is large, 7.13e+04. This might indicate that there are<br/>strong multicollinearity or other numerical problems."
      ],
      "text/plain": [
       "<class 'statsmodels.iolib.summary.Summary'>\n",
       "\"\"\"\n",
       "                            OLS Regression Results                            \n",
       "==============================================================================\n",
       "Dep. Variable:        CovidCasesCount   R-squared:                       0.787\n",
       "Model:                            OLS   Adj. R-squared:                  0.753\n",
       "Method:                 Least Squares   F-statistic:                     23.15\n",
       "Date:                Sun, 12 Apr 2020   Prob (F-statistic):           4.25e-08\n",
       "Time:                        17:22:43   Log-Likelihood:                -186.92\n",
       "No. Observations:                  30   AIC:                             383.8\n",
       "Df Residuals:                      25   BIC:                             390.9\n",
       "Df Model:                           4                                         \n",
       "Covariance Type:            nonrobust                                         \n",
       "==============================================================================================\n",
       "                                 coef    std err          t      P>|t|      [0.025      0.975]\n",
       "----------------------------------------------------------------------------------------------\n",
       "const                        172.9342    125.428      1.379      0.180     -85.389     431.258\n",
       "UrbanPopulationPercent       -55.6646     30.516     -1.824      0.080    -118.513       7.184\n",
       "HealthExpenditurePerCapita     0.0543      0.017      3.164      0.004       0.019       0.090\n",
       "SeniorCitizenInCr           -410.3264    259.383     -1.582      0.126    -944.536     123.883\n",
       "CovidDeathCount               12.1228      2.175      5.573      0.000       7.643      16.602\n",
       "==============================================================================\n",
       "Omnibus:                        8.349   Durbin-Watson:                   1.498\n",
       "Prob(Omnibus):                  0.015   Jarque-Bera (JB):                7.885\n",
       "Skew:                           0.746   Prob(JB):                       0.0194\n",
       "Kurtosis:                       5.020   Cond. No.                     7.13e+04\n",
       "==============================================================================\n",
       "\n",
       "Warnings:\n",
       "[1] Standard Errors assume that the covariance matrix of the errors is correctly specified.\n",
       "[2] The condition number is large, 7.13e+04. This might indicate that there are\n",
       "strong multicollinearity or other numerical problems.\n",
       "\"\"\""
      ]
     },
     "execution_count": 105,
     "metadata": {},
     "output_type": "execute_result"
    }
   ],
   "source": [
    "feats = ['UrbanPopulationPercent','HealthExpenditurePerCapita', 'SeniorCitizenInCr','CovidDeathCount']\n",
    "y=data['CovidCasesCount']\n",
    "x3=data[feats]\n",
    "x12=sm.add_constant(x3)\n",
    "reg12=sm.OLS(y,x12).fit()\n",
    "reg12.summary()"
   ]
  },
  {
   "cell_type": "markdown",
   "metadata": {},
   "source": [
    "### Again P value of SeniorCitizenInCr >0.05 , so lets drop that column also"
   ]
  },
  {
   "cell_type": "markdown",
   "metadata": {},
   "source": [
    "## Summary after dropping both SeniorCitizenInCr and CovidRecoveredCount."
   ]
  },
  {
   "cell_type": "code",
   "execution_count": 106,
   "metadata": {
    "scrolled": true
   },
   "outputs": [
    {
     "data": {
      "text/html": [
       "<table class=\"simpletable\">\n",
       "<caption>OLS Regression Results</caption>\n",
       "<tr>\n",
       "  <th>Dep. Variable:</th>     <td>CovidCasesCount</td> <th>  R-squared:         </th> <td>   0.766</td>\n",
       "</tr>\n",
       "<tr>\n",
       "  <th>Model:</th>                   <td>OLS</td>       <th>  Adj. R-squared:    </th> <td>   0.739</td>\n",
       "</tr>\n",
       "<tr>\n",
       "  <th>Method:</th>             <td>Least Squares</td>  <th>  F-statistic:       </th> <td>   28.40</td>\n",
       "</tr>\n",
       "<tr>\n",
       "  <th>Date:</th>             <td>Sun, 12 Apr 2020</td> <th>  Prob (F-statistic):</th> <td>2.31e-08</td>\n",
       "</tr>\n",
       "<tr>\n",
       "  <th>Time:</th>                 <td>17:24:29</td>     <th>  Log-Likelihood:    </th> <td> -188.35</td>\n",
       "</tr>\n",
       "<tr>\n",
       "  <th>No. Observations:</th>      <td>    30</td>      <th>  AIC:               </th> <td>   384.7</td>\n",
       "</tr>\n",
       "<tr>\n",
       "  <th>Df Residuals:</th>          <td>    26</td>      <th>  BIC:               </th> <td>   390.3</td>\n",
       "</tr>\n",
       "<tr>\n",
       "  <th>Df Model:</th>              <td>     3</td>      <th>                     </th>     <td> </td>   \n",
       "</tr>\n",
       "<tr>\n",
       "  <th>Covariance Type:</th>      <td>nonrobust</td>    <th>                     </th>     <td> </td>   \n",
       "</tr>\n",
       "</table>\n",
       "<table class=\"simpletable\">\n",
       "<tr>\n",
       "               <td></td>                 <th>coef</th>     <th>std err</th>      <th>t</th>      <th>P>|t|</th>  <th>[0.025</th>    <th>0.975]</th>  \n",
       "</tr>\n",
       "<tr>\n",
       "  <th>const</th>                      <td>  250.2380</td> <td>  118.808</td> <td>    2.106</td> <td> 0.045</td> <td>    6.025</td> <td>  494.451</td>\n",
       "</tr>\n",
       "<tr>\n",
       "  <th>UrbanPopulationPercent</th>     <td>  -69.8935</td> <td>   29.991</td> <td>   -2.331</td> <td> 0.028</td> <td> -131.540</td> <td>   -8.247</td>\n",
       "</tr>\n",
       "<tr>\n",
       "  <th>HealthExpenditurePerCapita</th> <td>    0.0293</td> <td>    0.007</td> <td>    4.222</td> <td> 0.000</td> <td>    0.015</td> <td>    0.044</td>\n",
       "</tr>\n",
       "<tr>\n",
       "  <th>CovidDeathCount</th>            <td>   11.3153</td> <td>    2.175</td> <td>    5.203</td> <td> 0.000</td> <td>    6.845</td> <td>   15.785</td>\n",
       "</tr>\n",
       "</table>\n",
       "<table class=\"simpletable\">\n",
       "<tr>\n",
       "  <th>Omnibus:</th>       <td> 5.247</td> <th>  Durbin-Watson:     </th> <td>   1.326</td>\n",
       "</tr>\n",
       "<tr>\n",
       "  <th>Prob(Omnibus):</th> <td> 0.073</td> <th>  Jarque-Bera (JB):  </th> <td>   3.541</td>\n",
       "</tr>\n",
       "<tr>\n",
       "  <th>Skew:</th>          <td> 0.729</td> <th>  Prob(JB):          </th> <td>   0.170</td>\n",
       "</tr>\n",
       "<tr>\n",
       "  <th>Kurtosis:</th>      <td> 3.841</td> <th>  Cond. No.          </th> <td>3.19e+04</td>\n",
       "</tr>\n",
       "</table><br/><br/>Warnings:<br/>[1] Standard Errors assume that the covariance matrix of the errors is correctly specified.<br/>[2] The condition number is large, 3.19e+04. This might indicate that there are<br/>strong multicollinearity or other numerical problems."
      ],
      "text/plain": [
       "<class 'statsmodels.iolib.summary.Summary'>\n",
       "\"\"\"\n",
       "                            OLS Regression Results                            \n",
       "==============================================================================\n",
       "Dep. Variable:        CovidCasesCount   R-squared:                       0.766\n",
       "Model:                            OLS   Adj. R-squared:                  0.739\n",
       "Method:                 Least Squares   F-statistic:                     28.40\n",
       "Date:                Sun, 12 Apr 2020   Prob (F-statistic):           2.31e-08\n",
       "Time:                        17:24:29   Log-Likelihood:                -188.35\n",
       "No. Observations:                  30   AIC:                             384.7\n",
       "Df Residuals:                      26   BIC:                             390.3\n",
       "Df Model:                           3                                         \n",
       "Covariance Type:            nonrobust                                         \n",
       "==============================================================================================\n",
       "                                 coef    std err          t      P>|t|      [0.025      0.975]\n",
       "----------------------------------------------------------------------------------------------\n",
       "const                        250.2380    118.808      2.106      0.045       6.025     494.451\n",
       "UrbanPopulationPercent       -69.8935     29.991     -2.331      0.028    -131.540      -8.247\n",
       "HealthExpenditurePerCapita     0.0293      0.007      4.222      0.000       0.015       0.044\n",
       "CovidDeathCount               11.3153      2.175      5.203      0.000       6.845      15.785\n",
       "==============================================================================\n",
       "Omnibus:                        5.247   Durbin-Watson:                   1.326\n",
       "Prob(Omnibus):                  0.073   Jarque-Bera (JB):                3.541\n",
       "Skew:                           0.729   Prob(JB):                        0.170\n",
       "Kurtosis:                       3.841   Cond. No.                     3.19e+04\n",
       "==============================================================================\n",
       "\n",
       "Warnings:\n",
       "[1] Standard Errors assume that the covariance matrix of the errors is correctly specified.\n",
       "[2] The condition number is large, 3.19e+04. This might indicate that there are\n",
       "strong multicollinearity or other numerical problems.\n",
       "\"\"\""
      ]
     },
     "execution_count": 106,
     "metadata": {},
     "output_type": "execute_result"
    }
   ],
   "source": [
    "feats1 = ['UrbanPopulationPercent','HealthExpenditurePerCapita','CovidDeathCount']\n",
    "y=data['CovidCasesCount']\n",
    "x4=data[feats1]\n",
    "x123=sm.add_constant(x4)\n",
    "reg123=sm.OLS(y,x123).fit()\n",
    "reg123.summary()"
   ]
  },
  {
   "cell_type": "markdown",
   "metadata": {},
   "source": [
    "### Now clearly P value of all the independent variable is less than 0.05."
   ]
  },
  {
   "cell_type": "markdown",
   "metadata": {},
   "source": [
    "# Model3"
   ]
  },
  {
   "cell_type": "code",
   "execution_count": 148,
   "metadata": {},
   "outputs": [],
   "source": [
    "# Slicing Independent and dependent attributes\n",
    "X_at = data[feats1]\n",
    "Y_at = data['CovidCasesCount']\n",
    "\n",
    "# Dividing data into train and test\n",
    "X_train2, X_test2, y_train2, y_test2 = train_test_split(X_at,Y_at,test_size = 0.20, random_state = 1)\n",
    "\n",
    "# Initiliazing Linear Regression Model\n",
    "model_linear_3 = LinearRegression()\n",
    "\n",
    "# Fitting Linear Model\n",
    "model_linear_3.fit(X_train2, y_train2)\n",
    "\n",
    "# Predicting on test dataset\n",
    "y_test_pred_3 = model_linear_3.predict(X_test2) "
   ]
  },
  {
   "cell_type": "code",
   "execution_count": 149,
   "metadata": {},
   "outputs": [
    {
     "name": "stdout",
     "output_type": "stream",
     "text": [
      "The model R Squared value is 0.9525\n"
     ]
    }
   ],
   "source": [
    "print(\"The model R Squared value is\", r2_score(y_true=y_test2, y_pred=y_test_pred_3).round(4))"
   ]
  },
  {
   "cell_type": "code",
   "execution_count": 150,
   "metadata": {},
   "outputs": [
    {
     "name": "stdout",
     "output_type": "stream",
     "text": [
      "The Mean Squared Error is  7574.28\n"
     ]
    }
   ],
   "source": [
    "print(\"The Mean Squared Error is \", mean_squared_error(y_test2, y_test_pred_3).round(2))"
   ]
  },
  {
   "cell_type": "markdown",
   "metadata": {},
   "source": [
    "### Actual vs Predicted"
   ]
  },
  {
   "cell_type": "code",
   "execution_count": 151,
   "metadata": {},
   "outputs": [
    {
     "data": {
      "text/html": [
       "<div>\n",
       "<style scoped>\n",
       "    .dataframe tbody tr th:only-of-type {\n",
       "        vertical-align: middle;\n",
       "    }\n",
       "\n",
       "    .dataframe tbody tr th {\n",
       "        vertical-align: top;\n",
       "    }\n",
       "\n",
       "    .dataframe thead th {\n",
       "        text-align: right;\n",
       "    }\n",
       "</style>\n",
       "<table border=\"1\" class=\"dataframe\">\n",
       "  <thead>\n",
       "    <tr style=\"text-align: right;\">\n",
       "      <th></th>\n",
       "      <th>Actual</th>\n",
       "      <th>Predicted</th>\n",
       "    </tr>\n",
       "  </thead>\n",
       "  <tbody>\n",
       "    <tr>\n",
       "      <td>17</td>\n",
       "      <td>1135</td>\n",
       "      <td>1250.0</td>\n",
       "    </tr>\n",
       "    <tr>\n",
       "      <td>21</td>\n",
       "      <td>5</td>\n",
       "      <td>20.0</td>\n",
       "    </tr>\n",
       "    <tr>\n",
       "      <td>10</td>\n",
       "      <td>169</td>\n",
       "      <td>118.0</td>\n",
       "    </tr>\n",
       "    <tr>\n",
       "      <td>19</td>\n",
       "      <td>1</td>\n",
       "      <td>-7.0</td>\n",
       "    </tr>\n",
       "    <tr>\n",
       "      <td>14</td>\n",
       "      <td>345</td>\n",
       "      <td>189.0</td>\n",
       "    </tr>\n",
       "    <tr>\n",
       "      <td>20</td>\n",
       "      <td>42</td>\n",
       "      <td>113.0</td>\n",
       "    </tr>\n",
       "  </tbody>\n",
       "</table>\n",
       "</div>"
      ],
      "text/plain": [
       "    Actual  Predicted\n",
       "17    1135     1250.0\n",
       "21       5       20.0\n",
       "10     169      118.0\n",
       "19       1       -7.0\n",
       "14     345      189.0\n",
       "20      42      113.0"
      ]
     },
     "execution_count": 151,
     "metadata": {},
     "output_type": "execute_result"
    }
   ],
   "source": [
    "pd.DataFrame({'Actual': y_test2, 'Predicted': y_test_pred_3.round(0)})"
   ]
  },
  {
   "cell_type": "code",
   "execution_count": 152,
   "metadata": {},
   "outputs": [
    {
     "data": {
      "text/html": [
       "<div>\n",
       "<style scoped>\n",
       "    .dataframe tbody tr th:only-of-type {\n",
       "        vertical-align: middle;\n",
       "    }\n",
       "\n",
       "    .dataframe tbody tr th {\n",
       "        vertical-align: top;\n",
       "    }\n",
       "\n",
       "    .dataframe thead th {\n",
       "        text-align: right;\n",
       "    }\n",
       "</style>\n",
       "<table border=\"1\" class=\"dataframe\">\n",
       "  <thead>\n",
       "    <tr style=\"text-align: right;\">\n",
       "      <th></th>\n",
       "      <th>Actual</th>\n",
       "      <th>Predicted</th>\n",
       "    </tr>\n",
       "  </thead>\n",
       "  <tbody>\n",
       "    <tr>\n",
       "      <td>17</td>\n",
       "      <td>1135</td>\n",
       "      <td>1250.0</td>\n",
       "    </tr>\n",
       "    <tr>\n",
       "      <td>21</td>\n",
       "      <td>5</td>\n",
       "      <td>20.0</td>\n",
       "    </tr>\n",
       "    <tr>\n",
       "      <td>10</td>\n",
       "      <td>169</td>\n",
       "      <td>118.0</td>\n",
       "    </tr>\n",
       "    <tr>\n",
       "      <td>19</td>\n",
       "      <td>1</td>\n",
       "      <td>0.0</td>\n",
       "    </tr>\n",
       "    <tr>\n",
       "      <td>14</td>\n",
       "      <td>345</td>\n",
       "      <td>189.0</td>\n",
       "    </tr>\n",
       "    <tr>\n",
       "      <td>20</td>\n",
       "      <td>42</td>\n",
       "      <td>113.0</td>\n",
       "    </tr>\n",
       "  </tbody>\n",
       "</table>\n",
       "</div>"
      ],
      "text/plain": [
       "    Actual  Predicted\n",
       "17    1135     1250.0\n",
       "21       5       20.0\n",
       "10     169      118.0\n",
       "19       1        0.0\n",
       "14     345      189.0\n",
       "20      42      113.0"
      ]
     },
     "execution_count": 152,
     "metadata": {},
     "output_type": "execute_result"
    }
   ],
   "source": [
    "# Imputing negative value with 0\n",
    "y_test_pred_3[y_test_pred_3 < 0 ] = 0\n",
    "\n",
    "# Dataframe of Actual and Predicted\n",
    "pd.DataFrame({'Actual': y_test2, 'Predicted': y_test_pred_3.round(0)})"
   ]
  },
  {
   "cell_type": "markdown",
   "metadata": {},
   "source": [
    "## Summary"
   ]
  },
  {
   "cell_type": "code",
   "execution_count": 157,
   "metadata": {},
   "outputs": [
    {
     "data": {
      "text/html": [
       "<div>\n",
       "<style scoped>\n",
       "    .dataframe tbody tr th:only-of-type {\n",
       "        vertical-align: middle;\n",
       "    }\n",
       "\n",
       "    .dataframe tbody tr th {\n",
       "        vertical-align: top;\n",
       "    }\n",
       "\n",
       "    .dataframe thead th {\n",
       "        text-align: right;\n",
       "    }\n",
       "</style>\n",
       "<table border=\"1\" class=\"dataframe\">\n",
       "  <thead>\n",
       "    <tr style=\"text-align: right;\">\n",
       "      <th></th>\n",
       "      <th>Features</th>\n",
       "      <th>Weights</th>\n",
       "    </tr>\n",
       "  </thead>\n",
       "  <tbody>\n",
       "    <tr>\n",
       "      <td>0</td>\n",
       "      <td>UrbanPopulationPercent</td>\n",
       "      <td>-67.962502</td>\n",
       "    </tr>\n",
       "    <tr>\n",
       "      <td>1</td>\n",
       "      <td>HealthExpenditurePerCapita</td>\n",
       "      <td>0.027914</td>\n",
       "    </tr>\n",
       "    <tr>\n",
       "      <td>2</td>\n",
       "      <td>CovidDeathCount</td>\n",
       "      <td>13.067645</td>\n",
       "    </tr>\n",
       "  </tbody>\n",
       "</table>\n",
       "</div>"
      ],
      "text/plain": [
       "                     Features    Weights\n",
       "0      UrbanPopulationPercent -67.962502\n",
       "1  HealthExpenditurePerCapita   0.027914\n",
       "2             CovidDeathCount  13.067645"
      ]
     },
     "execution_count": 157,
     "metadata": {},
     "output_type": "execute_result"
    }
   ],
   "source": [
    "feats1 = ['UrbanPopulationPercent','HealthExpenditurePerCapita','CovidDeathCount']\n",
    "X_at=data[feats1]\n",
    "reg_summary=pd.DataFrame(X_at.columns.values,columns=['Features'])\n",
    "reg_summary['Weights']=model_linear_3.coef_\n",
    "reg_summary"
   ]
  },
  {
   "cell_type": "markdown",
   "metadata": {},
   "source": [
    "# Testing for Autocorrelation, Heteroscedasticity on Model 3 results\n"
   ]
  },
  {
   "cell_type": "markdown",
   "metadata": {},
   "source": [
    "## Test for the presence of Autocorrelation"
   ]
  },
  {
   "cell_type": "code",
   "execution_count": 112,
   "metadata": {},
   "outputs": [
    {
     "data": {
      "image/png": "[encoded data removed]",
      "text/plain": [
       "<Figure size 504x432 with 1 Axes>"
      ]
     },
     "metadata": {
      "needs_background": "light"
     },
     "output_type": "display_data"
    }
   ],
   "source": [
    "plt.figure(figsize= (7,6))\n",
    "sns.residplot(y_test2, y_test_pred_3)\n",
    "plt.ylabel(\"Residuals\")\n",
    "plt.xlabel(\"Predicted Values\")\n",
    "plt.title(\"Residual Plot for Autocorrelation\")\n",
    "plt.show()"
   ]
  },
  {
   "cell_type": "markdown",
   "metadata": {},
   "source": [
    "### Durbin Watson Test Outline:"
   ]
  },
  {
   "cell_type": "markdown",
   "metadata": {},
   "source": [
    "Null Hypothesis of the test states that there is no correlation. \n",
    "The result of the test statistic is will always be between 0 and 4. \n",
    "The closer to 0 the statistic, the more evidence for positive serial correlation. \n",
    "The closer to 4, the more evidence for negative serial correlation.\n",
    "The closer to 2, the more evidence for no serial correlation.\n"
   ]
  },
  {
   "cell_type": "code",
   "execution_count": 113,
   "metadata": {},
   "outputs": [],
   "source": [
    "test_stats_value = durbin_watson(resids=y_test_pred_3 - y_test2)"
   ]
  },
  {
   "cell_type": "code",
   "execution_count": 114,
   "metadata": {},
   "outputs": [
    {
     "name": "stdout",
     "output_type": "stream",
     "text": [
      "The Durbin Watson Test statistic value is : 1.78\n"
     ]
    }
   ],
   "source": [
    "print(\"The Durbin Watson Test statistic value is :\", test_stats_value.round(2))"
   ]
  },
  {
   "cell_type": "markdown",
   "metadata": {},
   "source": [
    "**Test Conclusion: Since the test statistic value is closer to 2 hence it indicates no autocorrleation or fairly less autocorrelation**"
   ]
  },
  {
   "cell_type": "markdown",
   "metadata": {},
   "source": [
    "# Test for the presence of Heteroscedasticity "
   ]
  },
  {
   "cell_type": "markdown",
   "metadata": {},
   "source": [
    "### Spearman Rank Correlation Test - Outline\n"
   ]
  },
  {
   "cell_type": "markdown",
   "metadata": {},
   "source": [
    "H0: No Heteroscedasticity,\n",
    "H1: Presence of Heteroscedasticity, \n",
    "if p value is lower than 0.05, we reject null hupothesis and conclude the presence of Heteroscedasticity"
   ]
  },
  {
   "cell_type": "code",
   "execution_count": 115,
   "metadata": {},
   "outputs": [],
   "source": [
    "results_spearman_test = spearmanr(y_test2, y_test_pred_3)"
   ]
  },
  {
   "cell_type": "code",
   "execution_count": 116,
   "metadata": {},
   "outputs": [
    {
     "name": "stdout",
     "output_type": "stream",
     "text": [
      "The p value of spearman Rank Correlation test is  0.0048\n"
     ]
    }
   ],
   "source": [
    "print(\"The p value of spearman Rank Correlation test is \", results_spearman_test.pvalue.round(4)) "
   ]
  },
  {
   "cell_type": "markdown",
   "metadata": {},
   "source": [
    "**Test Conclusion: Since p value is lower than 0.05, we reject null hypothesis and conclude the presence of heterocedasticity** "
   ]
  },
  {
   "cell_type": "markdown",
   "metadata": {},
   "source": [
    "# Thank You"
   ]
  },
  {
   "cell_type": "code",
   "execution_count": null,
   "metadata": {},
   "outputs": [],
   "source": []
  }
 ],
 "metadata": {
  "kernelspec": {
   "display_name": "Python 3",
   "language": "python",
   "name": "python3"
  },
  "language_info": {
   "codemirror_mode": {
    "name": "ipython",
    "version": 3
   },
   "file_extension": ".py",
   "mimetype": "text/x-python",
   "name": "python",
   "nbconvert_exporter": "python",
   "pygments_lexer": "ipython3",
   "version": "3.8.3"
  }
 },
 "nbformat": 4,
 "nbformat_minor": 2
}
